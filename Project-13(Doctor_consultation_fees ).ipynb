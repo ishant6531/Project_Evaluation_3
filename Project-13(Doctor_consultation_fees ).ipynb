{
 "cells": [
  {
   "cell_type": "code",
   "execution_count": 49,
   "metadata": {},
   "outputs": [],
   "source": [
    "#Importing Libraries \n",
    "import pandas as pd\n",
    "import numpy as np\n",
    "import seaborn as sns\n",
    "import matplotlib.pyplot as plt\n",
    "import warnings\n",
    "warnings.filterwarnings(\"ignore\")"
   ]
  },
  {
   "cell_type": "code",
   "execution_count": 50,
   "metadata": {},
   "outputs": [
    {
     "data": {
      "text/html": [
       "<div>\n",
       "<style scoped>\n",
       "    .dataframe tbody tr th:only-of-type {\n",
       "        vertical-align: middle;\n",
       "    }\n",
       "\n",
       "    .dataframe tbody tr th {\n",
       "        vertical-align: top;\n",
       "    }\n",
       "\n",
       "    .dataframe thead th {\n",
       "        text-align: right;\n",
       "    }\n",
       "</style>\n",
       "<table border=\"1\" class=\"dataframe\">\n",
       "  <thead>\n",
       "    <tr style=\"text-align: right;\">\n",
       "      <th></th>\n",
       "      <th>Qualification</th>\n",
       "      <th>Experience</th>\n",
       "      <th>Rating</th>\n",
       "      <th>Place</th>\n",
       "      <th>Profile</th>\n",
       "      <th>Miscellaneous_Info</th>\n",
       "      <th>Fees</th>\n",
       "    </tr>\n",
       "  </thead>\n",
       "  <tbody>\n",
       "    <tr>\n",
       "      <th>0</th>\n",
       "      <td>BHMS, MD - Homeopathy</td>\n",
       "      <td>24 years experience</td>\n",
       "      <td>100%</td>\n",
       "      <td>Kakkanad, Ernakulam</td>\n",
       "      <td>Homeopath</td>\n",
       "      <td>100% 16 Feedback Kakkanad, Ernakulam</td>\n",
       "      <td>100</td>\n",
       "    </tr>\n",
       "    <tr>\n",
       "      <th>1</th>\n",
       "      <td>BAMS, MD - Ayurveda Medicine</td>\n",
       "      <td>12 years experience</td>\n",
       "      <td>98%</td>\n",
       "      <td>Whitefield, Bangalore</td>\n",
       "      <td>Ayurveda</td>\n",
       "      <td>98% 76 Feedback Whitefield, Bangalore</td>\n",
       "      <td>350</td>\n",
       "    </tr>\n",
       "    <tr>\n",
       "      <th>2</th>\n",
       "      <td>MBBS, MS - Otorhinolaryngology</td>\n",
       "      <td>9 years experience</td>\n",
       "      <td>NaN</td>\n",
       "      <td>Mathikere - BEL, Bangalore</td>\n",
       "      <td>ENT Specialist</td>\n",
       "      <td>NaN</td>\n",
       "      <td>300</td>\n",
       "    </tr>\n",
       "    <tr>\n",
       "      <th>3</th>\n",
       "      <td>BSc - Zoology, BAMS</td>\n",
       "      <td>12 years experience</td>\n",
       "      <td>NaN</td>\n",
       "      <td>Bannerghatta Road, Bangalore</td>\n",
       "      <td>Ayurveda</td>\n",
       "      <td>Bannerghatta Road, Bangalore ₹250 Available on...</td>\n",
       "      <td>250</td>\n",
       "    </tr>\n",
       "    <tr>\n",
       "      <th>4</th>\n",
       "      <td>BAMS</td>\n",
       "      <td>20 years experience</td>\n",
       "      <td>100%</td>\n",
       "      <td>Keelkattalai, Chennai</td>\n",
       "      <td>Ayurveda</td>\n",
       "      <td>100% 4 Feedback Keelkattalai, Chennai</td>\n",
       "      <td>250</td>\n",
       "    </tr>\n",
       "    <tr>\n",
       "      <th>...</th>\n",
       "      <td>...</td>\n",
       "      <td>...</td>\n",
       "      <td>...</td>\n",
       "      <td>...</td>\n",
       "      <td>...</td>\n",
       "      <td>...</td>\n",
       "      <td>...</td>\n",
       "    </tr>\n",
       "    <tr>\n",
       "      <th>5956</th>\n",
       "      <td>MBBS, MS - ENT</td>\n",
       "      <td>19 years experience</td>\n",
       "      <td>98%</td>\n",
       "      <td>Basavanagudi, Bangalore</td>\n",
       "      <td>ENT Specialist</td>\n",
       "      <td>98% 45 Feedback Basavanagudi, Bangalore</td>\n",
       "      <td>300</td>\n",
       "    </tr>\n",
       "    <tr>\n",
       "      <th>5957</th>\n",
       "      <td>MBBS</td>\n",
       "      <td>33 years experience</td>\n",
       "      <td>NaN</td>\n",
       "      <td>Nungambakkam, Chennai</td>\n",
       "      <td>General Medicine</td>\n",
       "      <td>NaN</td>\n",
       "      <td>100</td>\n",
       "    </tr>\n",
       "    <tr>\n",
       "      <th>5958</th>\n",
       "      <td>MBBS</td>\n",
       "      <td>41 years experience</td>\n",
       "      <td>97%</td>\n",
       "      <td>Greater Kailash Part 2, Delhi</td>\n",
       "      <td>General Medicine</td>\n",
       "      <td>97% 11 Feedback Greater Kailash Part 2, Delhi</td>\n",
       "      <td>600</td>\n",
       "    </tr>\n",
       "    <tr>\n",
       "      <th>5959</th>\n",
       "      <td>MBBS, MD - General Medicine</td>\n",
       "      <td>15 years experience</td>\n",
       "      <td>90%</td>\n",
       "      <td>Vileparle West, Mumbai</td>\n",
       "      <td>General Medicine</td>\n",
       "      <td>General Medical Consultation Viral Fever Treat...</td>\n",
       "      <td>100</td>\n",
       "    </tr>\n",
       "    <tr>\n",
       "      <th>5960</th>\n",
       "      <td>BDS, MDS - Orthodontics</td>\n",
       "      <td>17 years experience</td>\n",
       "      <td>100%</td>\n",
       "      <td>Pitampura, Delhi</td>\n",
       "      <td>Dentist</td>\n",
       "      <td>Acrylic Partial Denture Crowns and Bridges Fix...</td>\n",
       "      <td>200</td>\n",
       "    </tr>\n",
       "  </tbody>\n",
       "</table>\n",
       "<p>5961 rows × 7 columns</p>\n",
       "</div>"
      ],
      "text/plain": [
       "                       Qualification           Experience Rating  \\\n",
       "0              BHMS, MD - Homeopathy  24 years experience   100%   \n",
       "1       BAMS, MD - Ayurveda Medicine  12 years experience    98%   \n",
       "2     MBBS, MS - Otorhinolaryngology   9 years experience    NaN   \n",
       "3                BSc - Zoology, BAMS  12 years experience    NaN   \n",
       "4                               BAMS  20 years experience   100%   \n",
       "...                              ...                  ...    ...   \n",
       "5956                  MBBS, MS - ENT  19 years experience    98%   \n",
       "5957                            MBBS  33 years experience    NaN   \n",
       "5958                            MBBS  41 years experience    97%   \n",
       "5959     MBBS, MD - General Medicine  15 years experience    90%   \n",
       "5960         BDS, MDS - Orthodontics  17 years experience   100%   \n",
       "\n",
       "                              Place           Profile  \\\n",
       "0               Kakkanad, Ernakulam         Homeopath   \n",
       "1             Whitefield, Bangalore          Ayurveda   \n",
       "2        Mathikere - BEL, Bangalore    ENT Specialist   \n",
       "3      Bannerghatta Road, Bangalore          Ayurveda   \n",
       "4             Keelkattalai, Chennai          Ayurveda   \n",
       "...                             ...               ...   \n",
       "5956        Basavanagudi, Bangalore    ENT Specialist   \n",
       "5957          Nungambakkam, Chennai  General Medicine   \n",
       "5958  Greater Kailash Part 2, Delhi  General Medicine   \n",
       "5959         Vileparle West, Mumbai  General Medicine   \n",
       "5960               Pitampura, Delhi           Dentist   \n",
       "\n",
       "                                     Miscellaneous_Info  Fees  \n",
       "0                  100% 16 Feedback Kakkanad, Ernakulam   100  \n",
       "1                 98% 76 Feedback Whitefield, Bangalore   350  \n",
       "2                                                   NaN   300  \n",
       "3     Bannerghatta Road, Bangalore ₹250 Available on...   250  \n",
       "4                 100% 4 Feedback Keelkattalai, Chennai   250  \n",
       "...                                                 ...   ...  \n",
       "5956            98% 45 Feedback Basavanagudi, Bangalore   300  \n",
       "5957                                                NaN   100  \n",
       "5958      97% 11 Feedback Greater Kailash Part 2, Delhi   600  \n",
       "5959  General Medical Consultation Viral Fever Treat...   100  \n",
       "5960  Acrylic Partial Denture Crowns and Bridges Fix...   200  \n",
       "\n",
       "[5961 rows x 7 columns]"
      ]
     },
     "execution_count": 50,
     "metadata": {},
     "output_type": "execute_result"
    }
   ],
   "source": [
    "#Loading  Train database\n",
    "Train=pd.read_excel('Doct_Final_Train.xls')\n",
    "Train"
   ]
  },
  {
   "cell_type": "code",
   "execution_count": 51,
   "metadata": {},
   "outputs": [
    {
     "data": {
      "text/html": [
       "<div>\n",
       "<style scoped>\n",
       "    .dataframe tbody tr th:only-of-type {\n",
       "        vertical-align: middle;\n",
       "    }\n",
       "\n",
       "    .dataframe tbody tr th {\n",
       "        vertical-align: top;\n",
       "    }\n",
       "\n",
       "    .dataframe thead th {\n",
       "        text-align: right;\n",
       "    }\n",
       "</style>\n",
       "<table border=\"1\" class=\"dataframe\">\n",
       "  <thead>\n",
       "    <tr style=\"text-align: right;\">\n",
       "      <th></th>\n",
       "      <th>Qualification</th>\n",
       "      <th>Experience</th>\n",
       "      <th>Rating</th>\n",
       "      <th>Place</th>\n",
       "      <th>Profile</th>\n",
       "      <th>Miscellaneous_Info</th>\n",
       "    </tr>\n",
       "  </thead>\n",
       "  <tbody>\n",
       "    <tr>\n",
       "      <th>0</th>\n",
       "      <td>MBBS</td>\n",
       "      <td>35 years experience</td>\n",
       "      <td>NaN</td>\n",
       "      <td>Ghatkopar East, Mumbai</td>\n",
       "      <td>General Medicine</td>\n",
       "      <td>NaN</td>\n",
       "    </tr>\n",
       "    <tr>\n",
       "      <th>1</th>\n",
       "      <td>MBBS, Diploma in Otorhinolaryngology (DLO)</td>\n",
       "      <td>31 years experience</td>\n",
       "      <td>NaN</td>\n",
       "      <td>West Marredpally, Hyderabad</td>\n",
       "      <td>ENT Specialist</td>\n",
       "      <td>NaN</td>\n",
       "    </tr>\n",
       "    <tr>\n",
       "      <th>2</th>\n",
       "      <td>MBBS, DDVL</td>\n",
       "      <td>40 years experience</td>\n",
       "      <td>70%</td>\n",
       "      <td>KK Nagar, Chennai</td>\n",
       "      <td>Dermatologists</td>\n",
       "      <td>70% 4 Feedback KK Nagar, Chennai</td>\n",
       "    </tr>\n",
       "    <tr>\n",
       "      <th>3</th>\n",
       "      <td>BAMS</td>\n",
       "      <td>0 years experience</td>\n",
       "      <td>NaN</td>\n",
       "      <td>New Ashok Nagar, Delhi</td>\n",
       "      <td>Ayurveda</td>\n",
       "      <td>NaN</td>\n",
       "    </tr>\n",
       "    <tr>\n",
       "      <th>4</th>\n",
       "      <td>BDS, MDS - Conservative Dentistry &amp; Endodontics</td>\n",
       "      <td>16 years experience</td>\n",
       "      <td>100%</td>\n",
       "      <td>Kanakpura Road, Bangalore</td>\n",
       "      <td>Dentist</td>\n",
       "      <td>General Dentistry Conservative Dentistry Cosme...</td>\n",
       "    </tr>\n",
       "    <tr>\n",
       "      <th>...</th>\n",
       "      <td>...</td>\n",
       "      <td>...</td>\n",
       "      <td>...</td>\n",
       "      <td>...</td>\n",
       "      <td>...</td>\n",
       "      <td>...</td>\n",
       "    </tr>\n",
       "    <tr>\n",
       "      <th>1982</th>\n",
       "      <td>BAMS, Doctor of Medicine</td>\n",
       "      <td>10 years experience</td>\n",
       "      <td>NaN</td>\n",
       "      <td>Basavanagudi, Bangalore</td>\n",
       "      <td>Ayurveda</td>\n",
       "      <td>NaN</td>\n",
       "    </tr>\n",
       "    <tr>\n",
       "      <th>1983</th>\n",
       "      <td>MD - Dermatology , Venereology &amp; Leprosy, MBBS</td>\n",
       "      <td>4 years experience</td>\n",
       "      <td>NaN</td>\n",
       "      <td>Choolai, Chennai</td>\n",
       "      <td>Dermatologists</td>\n",
       "      <td>NaN</td>\n",
       "    </tr>\n",
       "    <tr>\n",
       "      <th>1984</th>\n",
       "      <td>MBBS, MD / MS - Obstetrics &amp; Gynaecology</td>\n",
       "      <td>9 years experience</td>\n",
       "      <td>NaN</td>\n",
       "      <td>Porur, Chennai</td>\n",
       "      <td>General Medicine</td>\n",
       "      <td>NaN</td>\n",
       "    </tr>\n",
       "    <tr>\n",
       "      <th>1985</th>\n",
       "      <td>BDS</td>\n",
       "      <td>12 years experience</td>\n",
       "      <td>98%</td>\n",
       "      <td>Arekere, Bangalore</td>\n",
       "      <td>Dentist</td>\n",
       "      <td>RCT - Root Canal Treatment Root Canal Treatmen...</td>\n",
       "    </tr>\n",
       "    <tr>\n",
       "      <th>1986</th>\n",
       "      <td>MBBS, MD - Dermatology , Venereology &amp; Leprosy</td>\n",
       "      <td>8 years experience</td>\n",
       "      <td>NaN</td>\n",
       "      <td>Pallikaranai, Chennai</td>\n",
       "      <td>Dermatologists</td>\n",
       "      <td>1 Feedback Pallikaranai, Chennai ₹500</td>\n",
       "    </tr>\n",
       "  </tbody>\n",
       "</table>\n",
       "<p>1987 rows × 6 columns</p>\n",
       "</div>"
      ],
      "text/plain": [
       "                                        Qualification           Experience  \\\n",
       "0                                                MBBS  35 years experience   \n",
       "1          MBBS, Diploma in Otorhinolaryngology (DLO)  31 years experience   \n",
       "2                                          MBBS, DDVL  40 years experience   \n",
       "3                                                BAMS   0 years experience   \n",
       "4     BDS, MDS - Conservative Dentistry & Endodontics  16 years experience   \n",
       "...                                               ...                  ...   \n",
       "1982                         BAMS, Doctor of Medicine  10 years experience   \n",
       "1983   MD - Dermatology , Venereology & Leprosy, MBBS   4 years experience   \n",
       "1984         MBBS, MD / MS - Obstetrics & Gynaecology   9 years experience   \n",
       "1985                                              BDS  12 years experience   \n",
       "1986   MBBS, MD - Dermatology , Venereology & Leprosy   8 years experience   \n",
       "\n",
       "     Rating                        Place           Profile  \\\n",
       "0       NaN       Ghatkopar East, Mumbai  General Medicine   \n",
       "1       NaN  West Marredpally, Hyderabad    ENT Specialist   \n",
       "2       70%            KK Nagar, Chennai    Dermatologists   \n",
       "3       NaN       New Ashok Nagar, Delhi          Ayurveda   \n",
       "4      100%    Kanakpura Road, Bangalore           Dentist   \n",
       "...     ...                          ...               ...   \n",
       "1982    NaN      Basavanagudi, Bangalore          Ayurveda   \n",
       "1983    NaN             Choolai, Chennai    Dermatologists   \n",
       "1984    NaN               Porur, Chennai  General Medicine   \n",
       "1985    98%           Arekere, Bangalore           Dentist   \n",
       "1986    NaN        Pallikaranai, Chennai    Dermatologists   \n",
       "\n",
       "                                     Miscellaneous_Info  \n",
       "0                                                   NaN  \n",
       "1                                                   NaN  \n",
       "2                      70% 4 Feedback KK Nagar, Chennai  \n",
       "3                                                   NaN  \n",
       "4     General Dentistry Conservative Dentistry Cosme...  \n",
       "...                                                 ...  \n",
       "1982                                                NaN  \n",
       "1983                                                NaN  \n",
       "1984                                                NaN  \n",
       "1985  RCT - Root Canal Treatment Root Canal Treatmen...  \n",
       "1986              1 Feedback Pallikaranai, Chennai ₹500  \n",
       "\n",
       "[1987 rows x 6 columns]"
      ]
     },
     "execution_count": 51,
     "metadata": {},
     "output_type": "execute_result"
    }
   ],
   "source": [
    "#Loading  Test database\n",
    "Test=pd.read_excel('Doc_Final_Test.xls')\n",
    "Test"
   ]
  },
  {
   "cell_type": "code",
   "execution_count": 52,
   "metadata": {},
   "outputs": [
    {
     "name": "stdout",
     "output_type": "stream",
     "text": [
      "Train DataBase  columns\n",
      "Index(['Qualification', 'Experience', 'Rating', 'Place', 'Profile',\n",
      "       'Miscellaneous_Info', 'Fees'],\n",
      "      dtype='object')\n",
      "\n",
      "\n",
      "Test DataBase  columns\n",
      "Index(['Qualification', 'Experience', 'Rating', 'Place', 'Profile',\n",
      "       'Miscellaneous_Info'],\n",
      "      dtype='object')\n"
     ]
    }
   ],
   "source": [
    "# Name of the Train and Test DataBase  columns.\n",
    "print(\"Train DataBase  columns\" )\n",
    "print(Train.columns)\n",
    "print(\"\")\n",
    "print(\"\")\n",
    "print(\"Test DataBase  columns\")\n",
    "print(Test.columns)"
   ]
  },
  {
   "cell_type": "code",
   "execution_count": 53,
   "metadata": {},
   "outputs": [
    {
     "name": "stdout",
     "output_type": "stream",
     "text": [
      "Shape of the Train database \n",
      "(5961, 7)\n",
      " \n",
      "Shape of the Test database \n",
      "(1987, 6)\n"
     ]
    }
   ],
   "source": [
    "# Shape of the Train and Test database .\n",
    "print (\"Shape of the Train database \")\n",
    "print(Train.shape)\n",
    "print(\" \")\n",
    "print (\"Shape of the Test database \")\n",
    "print(Test.shape)\n"
   ]
  },
  {
   "cell_type": "code",
   "execution_count": 54,
   "metadata": {},
   "outputs": [
    {
     "name": "stdout",
     "output_type": "stream",
     "text": [
      "<class 'pandas.core.frame.DataFrame'>\n",
      "RangeIndex: 5961 entries, 0 to 5960\n",
      "Data columns (total 7 columns):\n",
      " #   Column              Non-Null Count  Dtype \n",
      "---  ------              --------------  ----- \n",
      " 0   Qualification       5961 non-null   object\n",
      " 1   Experience          5961 non-null   object\n",
      " 2   Rating              2659 non-null   object\n",
      " 3   Place               5936 non-null   object\n",
      " 4   Profile             5961 non-null   object\n",
      " 5   Miscellaneous_Info  3341 non-null   object\n",
      " 6   Fees                5961 non-null   int64 \n",
      "dtypes: int64(1), object(6)\n",
      "memory usage: 326.1+ KB\n"
     ]
    }
   ],
   "source": [
    "#information of the  Train database\n",
    "Train.info()"
   ]
  },
  {
   "cell_type": "code",
   "execution_count": 55,
   "metadata": {},
   "outputs": [
    {
     "name": "stdout",
     "output_type": "stream",
     "text": [
      "Null values in Train Database\n",
      "Qualification            0\n",
      "Experience               0\n",
      "Rating                3302\n",
      "Place                   25\n",
      "Profile                  0\n",
      "Miscellaneous_Info    2620\n",
      "Fees                     0\n",
      "dtype: int64\n",
      " \n",
      "Null values in Test Database\n",
      "Qualification            0\n",
      "Experience               0\n",
      "Rating                1090\n",
      "Place                    6\n",
      "Profile                  0\n",
      "Miscellaneous_Info     834\n",
      "dtype: int64\n"
     ]
    }
   ],
   "source": [
    "#finding null values in the database\n",
    "\n",
    "print( \"Null values in Train Database\")\n",
    "print(Train.isnull().sum())\n",
    "print( \" \")\n",
    "print( \"Null values in Test Database\")\n",
    "print(Test.isnull().sum())"
   ]
  },
  {
   "cell_type": "code",
   "execution_count": 56,
   "metadata": {},
   "outputs": [
    {
     "data": {
      "text/html": [
       "<div>\n",
       "<style scoped>\n",
       "    .dataframe tbody tr th:only-of-type {\n",
       "        vertical-align: middle;\n",
       "    }\n",
       "\n",
       "    .dataframe tbody tr th {\n",
       "        vertical-align: top;\n",
       "    }\n",
       "\n",
       "    .dataframe thead th {\n",
       "        text-align: right;\n",
       "    }\n",
       "</style>\n",
       "<table border=\"1\" class=\"dataframe\">\n",
       "  <thead>\n",
       "    <tr style=\"text-align: right;\">\n",
       "      <th></th>\n",
       "      <th>Fees</th>\n",
       "    </tr>\n",
       "  </thead>\n",
       "  <tbody>\n",
       "    <tr>\n",
       "      <th>count</th>\n",
       "      <td>5961.000000</td>\n",
       "    </tr>\n",
       "    <tr>\n",
       "      <th>mean</th>\n",
       "      <td>307.944640</td>\n",
       "    </tr>\n",
       "    <tr>\n",
       "      <th>std</th>\n",
       "      <td>190.920373</td>\n",
       "    </tr>\n",
       "    <tr>\n",
       "      <th>min</th>\n",
       "      <td>5.000000</td>\n",
       "    </tr>\n",
       "    <tr>\n",
       "      <th>25%</th>\n",
       "      <td>150.000000</td>\n",
       "    </tr>\n",
       "    <tr>\n",
       "      <th>50%</th>\n",
       "      <td>300.000000</td>\n",
       "    </tr>\n",
       "    <tr>\n",
       "      <th>75%</th>\n",
       "      <td>500.000000</td>\n",
       "    </tr>\n",
       "    <tr>\n",
       "      <th>max</th>\n",
       "      <td>950.000000</td>\n",
       "    </tr>\n",
       "  </tbody>\n",
       "</table>\n",
       "</div>"
      ],
      "text/plain": [
       "              Fees\n",
       "count  5961.000000\n",
       "mean    307.944640\n",
       "std     190.920373\n",
       "min       5.000000\n",
       "25%     150.000000\n",
       "50%     300.000000\n",
       "75%     500.000000\n",
       "max     950.000000"
      ]
     },
     "execution_count": 56,
     "metadata": {},
     "output_type": "execute_result"
    }
   ],
   "source": [
    "# Describing Train Database.\n",
    "Train.describe()"
   ]
  },
  {
   "cell_type": "code",
   "execution_count": 63,
   "metadata": {},
   "outputs": [
    {
     "data": {
      "image/png": "[encoded data removed]",
      "text/plain": [
       "<Figure size 576x432 with 1 Axes>"
      ]
     },
     "metadata": {
      "needs_background": "light"
     },
     "output_type": "display_data"
    }
   ],
   "source": [
    "# Making Count plot of Profile\n",
    "fig, ax = plt.subplots(figsize=(8,6))\n",
    "sns.countplot(Train['Profile'].sort_values(), ax=ax,  alpha=0.5)\n",
    "plt.xticks(rotation=50)\n",
    "plt.show()"
   ]
  },
  {
   "cell_type": "code",
   "execution_count": 58,
   "metadata": {},
   "outputs": [
    {
     "data": {
      "text/plain": [
       "<matplotlib.axes._subplots.AxesSubplot at 0x2acca03d788>"
      ]
     },
     "execution_count": 58,
     "metadata": {},
     "output_type": "execute_result"
    },
    {
     "data": {
      "image/png": "[encoded data removed]",
      "text/plain": [
       "<Figure size 432x288 with 1 Axes>"
      ]
     },
     "metadata": {
      "needs_background": "light"
     },
     "output_type": "display_data"
    }
   ],
   "source": [
    "Train['Profile'].value_counts(normalize=True).plot(kind='barh')"
   ]
  },
  {
   "cell_type": "code",
   "execution_count": 59,
   "metadata": {},
   "outputs": [
    {
     "data": {
      "text/plain": [
       "<matplotlib.axes._subplots.AxesSubplot at 0x2acc9cd8748>"
      ]
     },
     "execution_count": 59,
     "metadata": {},
     "output_type": "execute_result"
    },
    {
     "data": {
      "image/png": "[encoded data removed]",
      "text/plain": [
       "<Figure size 1440x720 with 1 Axes>"
      ]
     },
     "metadata": {
      "needs_background": "light"
     },
     "output_type": "display_data"
    }
   ],
   "source": [
    "plt.subplots(figsize=(20, 10))\n",
    "Train['Experience'].value_counts(normalize=True)[:30].plot(kind='barh')"
   ]
  },
  {
   "cell_type": "code",
   "execution_count": 37,
   "metadata": {},
   "outputs": [
    {
     "data": {
      "text/plain": [
       "{'bodies': [<matplotlib.collections.PolyCollection at 0x2acc6d45d48>],\n",
       " 'cmaxes': <matplotlib.collections.LineCollection at 0x2acc6d4b4c8>,\n",
       " 'cmins': <matplotlib.collections.LineCollection at 0x2acc6d45448>,\n",
       " 'cbars': <matplotlib.collections.LineCollection at 0x2acc6d45388>}"
      ]
     },
     "execution_count": 37,
     "metadata": {},
     "output_type": "execute_result"
    },
    {
     "data": {
      "image/png": "[encoded data removed]",
      "text/plain": [
       "<Figure size 432x288 with 1 Axes>"
      ]
     },
     "metadata": {
      "needs_background": "light"
     },
     "output_type": "display_data"
    }
   ],
   "source": [
    "# Making Violinplot  of Fees.\n",
    "plt.violinplot(Train[\"Fees\"])"
   ]
  },
  {
   "cell_type": "code",
   "execution_count": 9,
   "metadata": {},
   "outputs": [],
   "source": [
    "# Adding Both Databases.\n",
    "df=Train.append(Test)"
   ]
  },
  {
   "cell_type": "code",
   "execution_count": 10,
   "metadata": {},
   "outputs": [],
   "source": [
    "# Substituting Null values in Miscellaneous_Info column with \"Missing\".\n",
    "df[\"Miscellaneous_Info\"].fillna(\"missing\",inplace=True)"
   ]
  },
  {
   "cell_type": "code",
   "execution_count": 11,
   "metadata": {},
   "outputs": [],
   "source": [
    "# Substituting Null values in Place column with \"Missing\".\n",
    "df[\"Place\"].fillna(\"missing\",inplace=True)"
   ]
  },
  {
   "cell_type": "code",
   "execution_count": 14,
   "metadata": {},
   "outputs": [],
   "source": [
    "# Extracting Data From Qualification column and putting it into different columns\n",
    "df['Qualification_1'] =df['Qualification'].str.split(',').str[0]\n",
    "df['Qualification_2'] =df['Qualification'].str.split(',').str[1]\n",
    "df['Qualification_3'] =df['Qualification'].str.split(',').str[2]\n",
    "df['Qualification_4'] =df['Qualification'].str.split(',').str[3]\n",
    "df['Qualification_5'] =df['Qualification'].str.split(',').str[4]"
   ]
  },
  {
   "cell_type": "code",
   "execution_count": 15,
   "metadata": {},
   "outputs": [],
   "source": [
    "df['Qualification_1'].fillna('None',inplace =True)\n",
    "df['Qualification_2'].fillna('None',inplace =True)\n",
    "df['Qualification_3'].fillna('None',inplace =True)\n",
    "df['Qualification_4'].fillna('None',inplace =True)\n",
    "df['Qualification_5'].fillna('None',inplace =True)"
   ]
  },
  {
   "cell_type": "code",
   "execution_count": 16,
   "metadata": {},
   "outputs": [],
   "source": [
    "#Droping Qualification column\n",
    "df=df.drop(['Qualification'],axis=1)"
   ]
  },
  {
   "cell_type": "code",
   "execution_count": 17,
   "metadata": {},
   "outputs": [],
   "source": [
    "# Removing years experience from Experience Column\n",
    "df['Experience'] = df['Experience'].str.replace(' years experience', '').astype(str)"
   ]
  },
  {
   "cell_type": "code",
   "execution_count": 18,
   "metadata": {},
   "outputs": [],
   "source": [
    "#Lets strip the\"%\" from Rating\n",
    "df[\"Rating\"]=df[\"Rating\"].str.strip(\"%\")"
   ]
  },
  {
   "cell_type": "code",
   "execution_count": 19,
   "metadata": {},
   "outputs": [],
   "source": [
    "#Lets replace the null values in rating with 0\n",
    "df[\"Rating\"].fillna(0,inplace=True)"
   ]
  },
  {
   "cell_type": "code",
   "execution_count": 20,
   "metadata": {},
   "outputs": [],
   "source": [
    "#Converting Rating to float \n",
    "df[\"Rating\"]=df[\"Rating\"].astype(float)"
   ]
  },
  {
   "cell_type": "code",
   "execution_count": 21,
   "metadata": {},
   "outputs": [],
   "source": [
    "# # Extracting Data from Place column .\n",
    "df['PLACE'] =df['Place'].str.split(',').str[0]\n",
    "df['CITY'] =df['Place'].str.split(',').str[1]"
   ]
  },
  {
   "cell_type": "code",
   "execution_count": 22,
   "metadata": {},
   "outputs": [],
   "source": [
    "# Droping Place column.\n",
    "df=df.drop(['Place'],axis=1)"
   ]
  },
  {
   "cell_type": "code",
   "execution_count": 23,
   "metadata": {},
   "outputs": [],
   "source": [
    "# Droping Miscellaneous_Info column.\n",
    "df=df.drop(['Miscellaneous_Info'],axis=1)"
   ]
  },
  {
   "cell_type": "code",
   "execution_count": 24,
   "metadata": {},
   "outputs": [
    {
     "data": {
      "text/html": [
       "<div>\n",
       "<style scoped>\n",
       "    .dataframe tbody tr th:only-of-type {\n",
       "        vertical-align: middle;\n",
       "    }\n",
       "\n",
       "    .dataframe tbody tr th {\n",
       "        vertical-align: top;\n",
       "    }\n",
       "\n",
       "    .dataframe thead th {\n",
       "        text-align: right;\n",
       "    }\n",
       "</style>\n",
       "<table border=\"1\" class=\"dataframe\">\n",
       "  <thead>\n",
       "    <tr style=\"text-align: right;\">\n",
       "      <th></th>\n",
       "      <th>Experience</th>\n",
       "      <th>Rating</th>\n",
       "      <th>Profile</th>\n",
       "      <th>Fees</th>\n",
       "      <th>Qualification_1</th>\n",
       "      <th>Qualification_2</th>\n",
       "      <th>Qualification_3</th>\n",
       "      <th>Qualification_4</th>\n",
       "      <th>Qualification_5</th>\n",
       "      <th>PLACE</th>\n",
       "      <th>CITY</th>\n",
       "    </tr>\n",
       "  </thead>\n",
       "  <tbody>\n",
       "    <tr>\n",
       "      <th>0</th>\n",
       "      <td>24</td>\n",
       "      <td>100.0</td>\n",
       "      <td>Homeopath</td>\n",
       "      <td>100.0</td>\n",
       "      <td>BHMS</td>\n",
       "      <td>MD - Homeopathy</td>\n",
       "      <td>None</td>\n",
       "      <td>None</td>\n",
       "      <td>None</td>\n",
       "      <td>Kakkanad</td>\n",
       "      <td>Ernakulam</td>\n",
       "    </tr>\n",
       "    <tr>\n",
       "      <th>1</th>\n",
       "      <td>12</td>\n",
       "      <td>98.0</td>\n",
       "      <td>Ayurveda</td>\n",
       "      <td>350.0</td>\n",
       "      <td>BAMS</td>\n",
       "      <td>MD - Ayurveda Medicine</td>\n",
       "      <td>None</td>\n",
       "      <td>None</td>\n",
       "      <td>None</td>\n",
       "      <td>Whitefield</td>\n",
       "      <td>Bangalore</td>\n",
       "    </tr>\n",
       "    <tr>\n",
       "      <th>2</th>\n",
       "      <td>9</td>\n",
       "      <td>0.0</td>\n",
       "      <td>ENT Specialist</td>\n",
       "      <td>300.0</td>\n",
       "      <td>MBBS</td>\n",
       "      <td>MS - Otorhinolaryngology</td>\n",
       "      <td>None</td>\n",
       "      <td>None</td>\n",
       "      <td>None</td>\n",
       "      <td>Mathikere - BEL</td>\n",
       "      <td>Bangalore</td>\n",
       "    </tr>\n",
       "    <tr>\n",
       "      <th>3</th>\n",
       "      <td>12</td>\n",
       "      <td>0.0</td>\n",
       "      <td>Ayurveda</td>\n",
       "      <td>250.0</td>\n",
       "      <td>BSc - Zoology</td>\n",
       "      <td>BAMS</td>\n",
       "      <td>None</td>\n",
       "      <td>None</td>\n",
       "      <td>None</td>\n",
       "      <td>Bannerghatta Road</td>\n",
       "      <td>Bangalore</td>\n",
       "    </tr>\n",
       "    <tr>\n",
       "      <th>4</th>\n",
       "      <td>20</td>\n",
       "      <td>100.0</td>\n",
       "      <td>Ayurveda</td>\n",
       "      <td>250.0</td>\n",
       "      <td>BAMS</td>\n",
       "      <td>None</td>\n",
       "      <td>None</td>\n",
       "      <td>None</td>\n",
       "      <td>None</td>\n",
       "      <td>Keelkattalai</td>\n",
       "      <td>Chennai</td>\n",
       "    </tr>\n",
       "    <tr>\n",
       "      <th>...</th>\n",
       "      <td>...</td>\n",
       "      <td>...</td>\n",
       "      <td>...</td>\n",
       "      <td>...</td>\n",
       "      <td>...</td>\n",
       "      <td>...</td>\n",
       "      <td>...</td>\n",
       "      <td>...</td>\n",
       "      <td>...</td>\n",
       "      <td>...</td>\n",
       "      <td>...</td>\n",
       "    </tr>\n",
       "    <tr>\n",
       "      <th>1982</th>\n",
       "      <td>10</td>\n",
       "      <td>0.0</td>\n",
       "      <td>Ayurveda</td>\n",
       "      <td>NaN</td>\n",
       "      <td>BAMS</td>\n",
       "      <td>Doctor of Medicine</td>\n",
       "      <td>None</td>\n",
       "      <td>None</td>\n",
       "      <td>None</td>\n",
       "      <td>Basavanagudi</td>\n",
       "      <td>Bangalore</td>\n",
       "    </tr>\n",
       "    <tr>\n",
       "      <th>1983</th>\n",
       "      <td>4</td>\n",
       "      <td>0.0</td>\n",
       "      <td>Dermatologists</td>\n",
       "      <td>NaN</td>\n",
       "      <td>MD - Dermatology</td>\n",
       "      <td>Venereology &amp; Leprosy</td>\n",
       "      <td>MBBS</td>\n",
       "      <td>None</td>\n",
       "      <td>None</td>\n",
       "      <td>Choolai</td>\n",
       "      <td>Chennai</td>\n",
       "    </tr>\n",
       "    <tr>\n",
       "      <th>1984</th>\n",
       "      <td>9</td>\n",
       "      <td>0.0</td>\n",
       "      <td>General Medicine</td>\n",
       "      <td>NaN</td>\n",
       "      <td>MBBS</td>\n",
       "      <td>MD / MS - Obstetrics &amp; Gynaecology</td>\n",
       "      <td>None</td>\n",
       "      <td>None</td>\n",
       "      <td>None</td>\n",
       "      <td>Porur</td>\n",
       "      <td>Chennai</td>\n",
       "    </tr>\n",
       "    <tr>\n",
       "      <th>1985</th>\n",
       "      <td>12</td>\n",
       "      <td>98.0</td>\n",
       "      <td>Dentist</td>\n",
       "      <td>NaN</td>\n",
       "      <td>BDS</td>\n",
       "      <td>None</td>\n",
       "      <td>None</td>\n",
       "      <td>None</td>\n",
       "      <td>None</td>\n",
       "      <td>Arekere</td>\n",
       "      <td>Bangalore</td>\n",
       "    </tr>\n",
       "    <tr>\n",
       "      <th>1986</th>\n",
       "      <td>8</td>\n",
       "      <td>0.0</td>\n",
       "      <td>Dermatologists</td>\n",
       "      <td>NaN</td>\n",
       "      <td>MBBS</td>\n",
       "      <td>MD - Dermatology</td>\n",
       "      <td>Venereology &amp; Leprosy</td>\n",
       "      <td>None</td>\n",
       "      <td>None</td>\n",
       "      <td>Pallikaranai</td>\n",
       "      <td>Chennai</td>\n",
       "    </tr>\n",
       "  </tbody>\n",
       "</table>\n",
       "<p>7948 rows × 11 columns</p>\n",
       "</div>"
      ],
      "text/plain": [
       "     Experience  Rating           Profile   Fees    Qualification_1  \\\n",
       "0            24   100.0         Homeopath  100.0               BHMS   \n",
       "1            12    98.0          Ayurveda  350.0               BAMS   \n",
       "2             9     0.0    ENT Specialist  300.0               MBBS   \n",
       "3            12     0.0          Ayurveda  250.0      BSc - Zoology   \n",
       "4            20   100.0          Ayurveda  250.0               BAMS   \n",
       "...         ...     ...               ...    ...                ...   \n",
       "1982         10     0.0          Ayurveda    NaN               BAMS   \n",
       "1983          4     0.0    Dermatologists    NaN  MD - Dermatology    \n",
       "1984          9     0.0  General Medicine    NaN               MBBS   \n",
       "1985         12    98.0           Dentist    NaN                BDS   \n",
       "1986          8     0.0    Dermatologists    NaN               MBBS   \n",
       "\n",
       "                          Qualification_2         Qualification_3  \\\n",
       "0                         MD - Homeopathy                    None   \n",
       "1                  MD - Ayurveda Medicine                    None   \n",
       "2                MS - Otorhinolaryngology                    None   \n",
       "3                                    BAMS                    None   \n",
       "4                                    None                    None   \n",
       "...                                   ...                     ...   \n",
       "1982                   Doctor of Medicine                    None   \n",
       "1983                Venereology & Leprosy                    MBBS   \n",
       "1984   MD / MS - Obstetrics & Gynaecology                    None   \n",
       "1985                                 None                    None   \n",
       "1986                    MD - Dermatology    Venereology & Leprosy   \n",
       "\n",
       "     Qualification_4 Qualification_5              PLACE        CITY  \n",
       "0               None            None           Kakkanad   Ernakulam  \n",
       "1               None            None         Whitefield   Bangalore  \n",
       "2               None            None    Mathikere - BEL   Bangalore  \n",
       "3               None            None  Bannerghatta Road   Bangalore  \n",
       "4               None            None       Keelkattalai     Chennai  \n",
       "...              ...             ...                ...         ...  \n",
       "1982            None            None       Basavanagudi   Bangalore  \n",
       "1983            None            None            Choolai     Chennai  \n",
       "1984            None            None              Porur     Chennai  \n",
       "1985            None            None            Arekere   Bangalore  \n",
       "1986            None            None       Pallikaranai     Chennai  \n",
       "\n",
       "[7948 rows x 11 columns]"
      ]
     },
     "execution_count": 24,
     "metadata": {},
     "output_type": "execute_result"
    }
   ],
   "source": [
    "df"
   ]
  },
  {
   "cell_type": "code",
   "execution_count": 25,
   "metadata": {},
   "outputs": [],
   "source": [
    "#Using Label Encoder \n",
    "from sklearn.preprocessing import LabelEncoder\n",
    "le=LabelEncoder()\n",
    "list1=['Profile','Qualification_1', 'Qualification_2', 'Qualification_3','Qualification_4','Qualification_5','PLACE' ,'CITY']\n",
    "for val in list1:\n",
    "     df[val]=le.fit_transform(df[val].astype(str))"
   ]
  },
  {
   "cell_type": "code",
   "execution_count": 28,
   "metadata": {},
   "outputs": [
    {
     "data": {
      "text/html": [
       "<div>\n",
       "<style scoped>\n",
       "    .dataframe tbody tr th:only-of-type {\n",
       "        vertical-align: middle;\n",
       "    }\n",
       "\n",
       "    .dataframe tbody tr th {\n",
       "        vertical-align: top;\n",
       "    }\n",
       "\n",
       "    .dataframe thead th {\n",
       "        text-align: right;\n",
       "    }\n",
       "</style>\n",
       "<table border=\"1\" class=\"dataframe\">\n",
       "  <thead>\n",
       "    <tr style=\"text-align: right;\">\n",
       "      <th></th>\n",
       "      <th>Experience</th>\n",
       "      <th>Rating</th>\n",
       "      <th>Profile</th>\n",
       "      <th>Fees</th>\n",
       "      <th>Qualification_1</th>\n",
       "      <th>Qualification_2</th>\n",
       "      <th>Qualification_3</th>\n",
       "      <th>Qualification_4</th>\n",
       "      <th>Qualification_5</th>\n",
       "      <th>PLACE</th>\n",
       "      <th>CITY</th>\n",
       "    </tr>\n",
       "  </thead>\n",
       "  <tbody>\n",
       "    <tr>\n",
       "      <th>0</th>\n",
       "      <td>24</td>\n",
       "      <td>100.0</td>\n",
       "      <td>5</td>\n",
       "      <td>100.0</td>\n",
       "      <td>8</td>\n",
       "      <td>293</td>\n",
       "      <td>480</td>\n",
       "      <td>252</td>\n",
       "      <td>117</td>\n",
       "      <td>324</td>\n",
       "      <td>4</td>\n",
       "    </tr>\n",
       "    <tr>\n",
       "      <th>1</th>\n",
       "      <td>12</td>\n",
       "      <td>98.0</td>\n",
       "      <td>0</td>\n",
       "      <td>350.0</td>\n",
       "      <td>5</td>\n",
       "      <td>282</td>\n",
       "      <td>480</td>\n",
       "      <td>252</td>\n",
       "      <td>117</td>\n",
       "      <td>925</td>\n",
       "      <td>0</td>\n",
       "    </tr>\n",
       "    <tr>\n",
       "      <th>2</th>\n",
       "      <td>9</td>\n",
       "      <td>0.0</td>\n",
       "      <td>3</td>\n",
       "      <td>300.0</td>\n",
       "      <td>101</td>\n",
       "      <td>383</td>\n",
       "      <td>480</td>\n",
       "      <td>252</td>\n",
       "      <td>117</td>\n",
       "      <td>494</td>\n",
       "      <td>0</td>\n",
       "    </tr>\n",
       "    <tr>\n",
       "      <th>3</th>\n",
       "      <td>12</td>\n",
       "      <td>0.0</td>\n",
       "      <td>0</td>\n",
       "      <td>250.0</td>\n",
       "      <td>14</td>\n",
       "      <td>10</td>\n",
       "      <td>480</td>\n",
       "      <td>252</td>\n",
       "      <td>117</td>\n",
       "      <td>74</td>\n",
       "      <td>0</td>\n",
       "    </tr>\n",
       "    <tr>\n",
       "      <th>4</th>\n",
       "      <td>20</td>\n",
       "      <td>100.0</td>\n",
       "      <td>0</td>\n",
       "      <td>250.0</td>\n",
       "      <td>5</td>\n",
       "      <td>494</td>\n",
       "      <td>480</td>\n",
       "      <td>252</td>\n",
       "      <td>117</td>\n",
       "      <td>367</td>\n",
       "      <td>1</td>\n",
       "    </tr>\n",
       "    <tr>\n",
       "      <th>...</th>\n",
       "      <td>...</td>\n",
       "      <td>...</td>\n",
       "      <td>...</td>\n",
       "      <td>...</td>\n",
       "      <td>...</td>\n",
       "      <td>...</td>\n",
       "      <td>...</td>\n",
       "      <td>...</td>\n",
       "      <td>...</td>\n",
       "      <td>...</td>\n",
       "      <td>...</td>\n",
       "    </tr>\n",
       "    <tr>\n",
       "      <th>1982</th>\n",
       "      <td>10</td>\n",
       "      <td>0.0</td>\n",
       "      <td>0</td>\n",
       "      <td>NaN</td>\n",
       "      <td>5</td>\n",
       "      <td>180</td>\n",
       "      <td>480</td>\n",
       "      <td>252</td>\n",
       "      <td>117</td>\n",
       "      <td>76</td>\n",
       "      <td>0</td>\n",
       "    </tr>\n",
       "    <tr>\n",
       "      <th>1983</th>\n",
       "      <td>4</td>\n",
       "      <td>0.0</td>\n",
       "      <td>2</td>\n",
       "      <td>NaN</td>\n",
       "      <td>111</td>\n",
       "      <td>491</td>\n",
       "      <td>309</td>\n",
       "      <td>252</td>\n",
       "      <td>117</td>\n",
       "      <td>135</td>\n",
       "      <td>1</td>\n",
       "    </tr>\n",
       "    <tr>\n",
       "      <th>1984</th>\n",
       "      <td>9</td>\n",
       "      <td>0.0</td>\n",
       "      <td>4</td>\n",
       "      <td>NaN</td>\n",
       "      <td>101</td>\n",
       "      <td>323</td>\n",
       "      <td>480</td>\n",
       "      <td>252</td>\n",
       "      <td>117</td>\n",
       "      <td>658</td>\n",
       "      <td>1</td>\n",
       "    </tr>\n",
       "    <tr>\n",
       "      <th>1985</th>\n",
       "      <td>12</td>\n",
       "      <td>98.0</td>\n",
       "      <td>1</td>\n",
       "      <td>NaN</td>\n",
       "      <td>6</td>\n",
       "      <td>494</td>\n",
       "      <td>480</td>\n",
       "      <td>252</td>\n",
       "      <td>117</td>\n",
       "      <td>34</td>\n",
       "      <td>0</td>\n",
       "    </tr>\n",
       "    <tr>\n",
       "      <th>1986</th>\n",
       "      <td>8</td>\n",
       "      <td>0.0</td>\n",
       "      <td>2</td>\n",
       "      <td>NaN</td>\n",
       "      <td>101</td>\n",
       "      <td>287</td>\n",
       "      <td>473</td>\n",
       "      <td>252</td>\n",
       "      <td>117</td>\n",
       "      <td>607</td>\n",
       "      <td>1</td>\n",
       "    </tr>\n",
       "  </tbody>\n",
       "</table>\n",
       "<p>7948 rows × 11 columns</p>\n",
       "</div>"
      ],
      "text/plain": [
       "     Experience  Rating  Profile   Fees  Qualification_1  Qualification_2  \\\n",
       "0            24   100.0        5  100.0                8              293   \n",
       "1            12    98.0        0  350.0                5              282   \n",
       "2             9     0.0        3  300.0              101              383   \n",
       "3            12     0.0        0  250.0               14               10   \n",
       "4            20   100.0        0  250.0                5              494   \n",
       "...         ...     ...      ...    ...              ...              ...   \n",
       "1982         10     0.0        0    NaN                5              180   \n",
       "1983          4     0.0        2    NaN              111              491   \n",
       "1984          9     0.0        4    NaN              101              323   \n",
       "1985         12    98.0        1    NaN                6              494   \n",
       "1986          8     0.0        2    NaN              101              287   \n",
       "\n",
       "      Qualification_3  Qualification_4  Qualification_5  PLACE  CITY  \n",
       "0                 480              252              117    324     4  \n",
       "1                 480              252              117    925     0  \n",
       "2                 480              252              117    494     0  \n",
       "3                 480              252              117     74     0  \n",
       "4                 480              252              117    367     1  \n",
       "...               ...              ...              ...    ...   ...  \n",
       "1982              480              252              117     76     0  \n",
       "1983              309              252              117    135     1  \n",
       "1984              480              252              117    658     1  \n",
       "1985              480              252              117     34     0  \n",
       "1986              473              252              117    607     1  \n",
       "\n",
       "[7948 rows x 11 columns]"
      ]
     },
     "execution_count": 28,
     "metadata": {},
     "output_type": "execute_result"
    }
   ],
   "source": [
    "df"
   ]
  },
  {
   "cell_type": "markdown",
   "metadata": {},
   "source": [
    "# Splitting Test and Train database"
   ]
  },
  {
   "cell_type": "code",
   "execution_count": 26,
   "metadata": {},
   "outputs": [],
   "source": [
    "# Splitting Test and Train database.\n",
    "Train=df[0:5961]\n",
    "Test=df[5961:]\n",
    "Test=Test.drop(['Fees'],axis=1)"
   ]
  },
  {
   "cell_type": "code",
   "execution_count": 27,
   "metadata": {},
   "outputs": [],
   "source": [
    "x=Train.drop(['Fees'],axis=1)\n",
    "y=Train[\"Fees\"]"
   ]
  },
  {
   "cell_type": "markdown",
   "metadata": {},
   "source": [
    "# Splitting Data into target and Input"
   ]
  },
  {
   "cell_type": "code",
   "execution_count": 32,
   "metadata": {},
   "outputs": [],
   "source": [
    "from sklearn.metrics import mean_absolute_error\n",
    "from sklearn.metrics import mean_squared_error\n",
    "from sklearn.metrics import r2_score\n",
    "from sklearn.model_selection import train_test_split\n",
    "from sklearn.svm import SVR\n",
    "from sklearn.model_selection import GridSearchCV\n",
    "from sklearn.neighbors import KNeighborsRegressor\n",
    "from sklearn.tree import DecisionTreeRegressor\n",
    "from sklearn.model_selection import cross_val_score\n",
    "from sklearn.ensemble import GradientBoostingRegressor\n",
    "from sklearn.linear_model import Lasso\n",
    "from sklearn.linear_model import ElasticNet\n",
    "from sklearn.ensemble import RandomForestRegressor\n",
    "from sklearn.ensemble import AdaBoostRegressor\n",
    "from sklearn.linear_model import LinearRegression"
   ]
  },
  {
   "cell_type": "code",
   "execution_count": 33,
   "metadata": {},
   "outputs": [],
   "source": [
    "def maxr2_score(regr,x,y):\n",
    "    max_r_score=0\n",
    "    for i in range(42,100):\n",
    "        x_train,x_test,y_train,y_test=train_test_split(x,y,random_state= i ,test_size=0.20)\n",
    "        regr.fit(x,y)\n",
    "        y_pred=regr.predict(x_test)\n",
    "        r2_scr=r2_score(y_test,y_pred)\n",
    "        if r2_scr>max_r_score:\n",
    "            max_r_score=r2_scr\n",
    "            final_i=i\n",
    "    print(\" We are getting maximum  r2 score corresponding to\",final_i,\"is\",max_r_score)\n",
    "    return final_i"
   ]
  },
  {
   "cell_type": "code",
   "execution_count": 202,
   "metadata": {},
   "outputs": [
    {
     "name": "stdout",
     "output_type": "stream",
     "text": [
      " Best parameters of KNeighborsRegressor is :-\n",
      "{'algorithm': 'brute', 'n_neighbors': 20}\n",
      "\n",
      "\n",
      " Best parameters of Lasso is :-\n",
      "{'alpha': 0.1, 'selection': 'cyclic'}\n",
      "\n",
      "\n",
      " Best parameters of DecisionTreeRegressor is :-\n",
      "{'criterion': 'mae', 'max_features': 'auto'}\n",
      "\n",
      "\n",
      " Best parameters of AdaBoostRegressor is :-\n",
      "{'learning_rate': 0.01, 'n_estimators': 150}\n",
      "\n",
      "\n"
     ]
    }
   ],
   "source": [
    "# using Grid search CV to find best  parameters of different algorithim .\n",
    "knn=KNeighborsRegressor()\n",
    "parameters={\"n_neighbors\" :(5,20) , 'algorithm' :['auto', 'ball_tree', 'kd_tree', 'brute']}\n",
    "gd=GridSearchCV(knn,parameters)\n",
    "gd.fit(x,y)\n",
    "print(\" Best parameters of KNeighborsRegressor is :-\")\n",
    "print(gd.best_params_)\n",
    "print(\"\\n\")\n",
    "\n",
    "lsreg=Lasso()\n",
    "parameters={\"alpha\":[0.001,0.01,0.1,1] , 'selection' : ['cyclic', 'random']}\n",
    "gd=GridSearchCV(lsreg,parameters)\n",
    "gd.fit(x,y)\n",
    "print(\" Best parameters of Lasso is :-\")\n",
    "print(gd.best_params_)\n",
    "print(\"\\n\")\n",
    "\n",
    "dtc=DecisionTreeRegressor()\n",
    "parameters={\"criterion\" :( 'mse', 'friedman_mse', 'mae') ,'max_features' : ['auto', 'sqrt', 'log2']}\n",
    "gd=GridSearchCV(dtc,parameters)\n",
    "gd.fit(x,y)\n",
    "print(\" Best parameters of DecisionTreeRegressor is :-\")\n",
    "print(gd.best_params_)\n",
    "print(\"\\n\")\n",
    "\n",
    "#Best parameters for  AdaBoostRegressor\n",
    "ada=AdaBoostRegressor()\n",
    "parameters={\"learning_rate\":[0.001,0.01,0.1,1],\"n_estimators\":[25,50,100,150,200]}\n",
    "gd=GridSearchCV(ada,parameters)\n",
    "gd.fit(x,y)\n",
    "print(\" Best parameters of AdaBoostRegressor is :-\")\n",
    "print(gd.best_params_)\n",
    "print(\"\\n\")"
   ]
  },
  {
   "cell_type": "code",
   "execution_count": 203,
   "metadata": {},
   "outputs": [
    {
     "name": "stdout",
     "output_type": "stream",
     "text": [
      "Linear Regression\n",
      "................. \n",
      " We are getting maximum  r2 score corresponding to 44 is 0.13436231664090548\n",
      " \n",
      "Mean r2 score for Linear Regression: 0.09993911027331222\n",
      "standard deviation in r2 score for Linear Regression 0.01065175297222663\n",
      " \n",
      "#############################################################################\n",
      " \n",
      "KNeighbors regressor \n",
      "..................... \n",
      " We are getting maximum  r2 score corresponding to 44 is 0.23192207621906535\n",
      " \n",
      "Mean r2 score for KNeighbor  Regression: 0.09419879102178648\n",
      "standard deviation in r2 score for KNeighbor   Regression 0.011806715405586449\n",
      " \n",
      "##############################################################################\n",
      " \n",
      "Lasso Regressor\n",
      "................ \n",
      " We are getting maximum  r2 score corresponding to 44 is 0.13435065321961837\n",
      " \n",
      "Mean r2 score for Lasso Regression: 0.08930533249823894\n",
      "standard deviation in r2 score for Lasso Regression 0.010621459848205998\n",
      " \n",
      "################################################################################\n",
      " \n",
      "DecisionTreeRegressor\n",
      "...................... \n",
      " We are getting maximum  r2 score corresponding to 72 is 0.9986255993607993\n",
      " \n",
      "Mean r2 score for DecisionTreeRegressor : -0.503598455247647\n",
      "standard deviation in r2 score for DecisionTreeRegressor 0.06908658908757571\n",
      " \n",
      "#################################################################################\n",
      " \n",
      "AdaBoostRegressor\n",
      ".................. \n",
      " We are getting maximum  r2 score corresponding to 44 is 0.19208152857439864\n",
      " \n",
      "Mean r2 score for AdaBoostRegressor : 0.14529106954253285\n",
      "standard deviation in r2 score for AdaBoostRegressor  0.006122900897271321\n",
      " \n",
      "#####################################################################################\n"
     ]
    }
   ],
   "source": [
    "# Finding best r2 score value for Linear Regression \n",
    "print(\"Linear Regression\")\n",
    "print(\"................. \")\n",
    "lreg=LinearRegression()\n",
    "r_state=maxr2_score(lreg,x,y)\n",
    "print(\" \")\n",
    "from sklearn.model_selection import cross_val_score\n",
    "print(\"Mean r2 score for Linear Regression:\",cross_val_score(lreg,x,y,cv=5,scoring=\"r2\").mean())\n",
    "print(\"standard deviation in r2 score for Linear Regression\",cross_val_score(lreg,x,y,cv=5,scoring=\"r2\").std())\n",
    "print(\" \")\n",
    "print(\"#############################################################################\")\n",
    "print(\" \")\n",
    "\n",
    "\n",
    "# Finding best r2 score value for KNeighbors regressor \n",
    "print(\"KNeighbors regressor \")\n",
    "print(\"..................... \")\n",
    "knn=KNeighborsRegressor(n_neighbors= 20 , algorithm = 'brute')\n",
    "i=maxr2_score(knn,x,y)\n",
    "print(\" \")\n",
    "from sklearn.model_selection import cross_val_score\n",
    "print(\"Mean r2 score for KNeighbor  Regression:\",cross_val_score(knn,x,y,cv=5,scoring=\"r2\").mean())\n",
    "print(\"standard deviation in r2 score for KNeighbor   Regression\",cross_val_score(knn,x,y,cv=5,scoring=\"r2\").std())\n",
    "print(\" \")\n",
    "print(\"##############################################################################\")\n",
    "print(\" \")\n",
    "\n",
    "\n",
    "# Finding best r2 score value for Lasso Regressor \n",
    "print(\"Lasso Regressor\")\n",
    "print(\"................ \")\n",
    "lsreg=Lasso(alpha=0.1 , selection = 'cyclic')\n",
    "i=maxr2_score(lsreg,x,y)\n",
    "print(\" \")\n",
    "from sklearn.model_selection import cross_val_score\n",
    "print(\"Mean r2 score for Lasso Regression:\",cross_val_score(lsreg,x,y,cv=63,scoring=\"r2\").mean())\n",
    "print(\"standard deviation in r2 score for Lasso Regression\",cross_val_score(lsreg,x,y,cv=5,scoring=\"r2\").std())\n",
    "print(\" \")\n",
    "print(\"################################################################################\")\n",
    "print(\" \")\n",
    "\n",
    "# Finding best r2 score value for DecisionTreeRegressor\n",
    "print(\"DecisionTreeRegressor\")\n",
    "print(\"...................... \")\n",
    "dtc=DecisionTreeRegressor(criterion = 'mae'  , max_features = 'auto')\n",
    "i=maxr2_score(dtc,x,y)\n",
    "print(\" \")\n",
    "from sklearn.model_selection import cross_val_score\n",
    "print(\"Mean r2 score for DecisionTreeRegressor :\",cross_val_score(dtc,x,y,cv=52,scoring=\"r2\").mean())\n",
    "print(\"standard deviation in r2 score for DecisionTreeRegressor\",cross_val_score(dtc,x,y,cv=5,scoring=\"r2\").std())\n",
    "print(\" \")\n",
    "print(\"#################################################################################\")\n",
    "print(\" \")\n",
    "\n",
    "\n",
    "# Finding best r2 score value for  AdaBoostRegressor\n",
    "print(\"AdaBoostRegressor\")\n",
    "print(\".................. \")\n",
    "ada=AdaBoostRegressor(n_estimators= 150, learning_rate = 0.01)\n",
    "i=maxr2_score(ada,x,y)\n",
    "print(\" \")\n",
    "print(\"Mean r2 score for AdaBoostRegressor :\",cross_val_score(ada,x,y,cv=10,scoring=\"r2\").mean())\n",
    "print(\"standard deviation in r2 score for AdaBoostRegressor \",cross_val_score(ada,x,y,cv=5,scoring=\"r2\").std())\n",
    "print(\" \")\n",
    "print(\"#####################################################################################\") "
   ]
  },
  {
   "cell_type": "code",
   "execution_count": 135,
   "metadata": {},
   "outputs": [
    {
     "name": "stdout",
     "output_type": "stream",
     "text": [
      "RandomForestRegressor\n",
      ".................. \n",
      " We are getting maximum  r2 score corresponding to 63 is 0.8932514634434319\n",
      " \n",
      "Mean r2 score for RandomForestRegressor : 0.18889660076887999\n",
      "standard deviation in r2 score for RandomForestRegressor  0.0239028621596002\n",
      " \n",
      "#####################################################################################\n"
     ]
    }
   ],
   "source": [
    "# Finding best r2 score value for  RandomForestRegressor\n",
    "print(\"RandomForestRegressor\")\n",
    "print(\".................. \")\n",
    "rfr=RandomForestRegressor()\n",
    "i=maxr2_score(rfr,x,y)\n",
    "print(\" \")\n",
    "print(\"Mean r2 score for RandomForestRegressor :\",cross_val_score(rfr,x,y,cv=10,scoring=\"r2\").mean())\n",
    "print(\"standard deviation in r2 score for RandomForestRegressor \",cross_val_score(rfr,x,y,cv=5,scoring=\"r2\").std())\n",
    "print(\" \")\n",
    "print(\"#####################################################################################\")"
   ]
  },
  {
   "cell_type": "markdown",
   "metadata": {},
   "source": [
    "# Since RandomForestRegressor is giving better result so we will use it as final model"
   ]
  },
  {
   "cell_type": "code",
   "execution_count": 34,
   "metadata": {},
   "outputs": [],
   "source": [
    "x_train,x_test,y_train,y_test=train_test_split(x,y,random_state=63,test_size=0.20)\n",
    "rfr=RandomForestRegressor()\n",
    "rfr.fit(x,y)\n",
    "y_pred=rfr.predict(x_test)"
   ]
  },
  {
   "cell_type": "code",
   "execution_count": 35,
   "metadata": {},
   "outputs": [
    {
     "name": "stdout",
     "output_type": "stream",
     "text": [
      "RMSE is:  63.653400780638925\n",
      "r2_score is: 0.8903369603311161\n"
     ]
    }
   ],
   "source": [
    "import numpy as np\n",
    "from sklearn.metrics import r2_score\n",
    "from sklearn.metrics import mean_squared_error\n",
    "print(\"RMSE is: \",np.sqrt(mean_squared_error(y_test,y_pred)))\n",
    "print(\"r2_score is:\",r2_score(y_test,y_pred))"
   ]
  },
  {
   "cell_type": "markdown",
   "metadata": {},
   "source": [
    "# Saving the model"
   ]
  },
  {
   "cell_type": "code",
   "execution_count": 138,
   "metadata": {},
   "outputs": [
    {
     "data": {
      "text/plain": [
       "['Doc_fees.pkl']"
      ]
     },
     "execution_count": 138,
     "metadata": {},
     "output_type": "execute_result"
    }
   ],
   "source": [
    "from sklearn.externals import joblib\n",
    "joblib.dump(rfr,\"Doc_fees.pkl\")"
   ]
  },
  {
   "cell_type": "markdown",
   "metadata": {},
   "source": [
    "# Loading Model"
   ]
  },
  {
   "cell_type": "code",
   "execution_count": 139,
   "metadata": {},
   "outputs": [],
   "source": [
    "model=joblib.load('Doc_fees.pkl')"
   ]
  },
  {
   "cell_type": "markdown",
   "metadata": {},
   "source": [
    "# Using Model to predict data"
   ]
  },
  {
   "cell_type": "code",
   "execution_count": 140,
   "metadata": {},
   "outputs": [
    {
     "data": {
      "text/plain": [
       "array([263.5, 361.3, 364.5, ..., 260. , 233.8, 446.5])"
      ]
     },
     "execution_count": 140,
     "metadata": {},
     "output_type": "execute_result"
    }
   ],
   "source": [
    "db=model.predict(Test)\n",
    "db"
   ]
  },
  {
   "cell_type": "markdown",
   "metadata": {},
   "source": [
    "# Saving Prediction in csv file"
   ]
  },
  {
   "cell_type": "code",
   "execution_count": 141,
   "metadata": {},
   "outputs": [],
   "source": [
    "dft=pd.DataFrame(db)\n",
    "dft.to_csv(\"Doc_fees1.csv\")"
   ]
  },
  {
   "cell_type": "code",
   "execution_count": null,
   "metadata": {},
   "outputs": [],
   "source": []
  }
 ],
 "metadata": {
  "kernelspec": {
   "display_name": "Python 3",
   "language": "python",
   "name": "python3"
  },
  "language_info": {
   "codemirror_mode": {
    "name": "ipython",
    "version": 3
   },
   "file_extension": ".py",
   "mimetype": "text/x-python",
   "name": "python",
   "nbconvert_exporter": "python",
   "pygments_lexer": "ipython3",
   "version": "3.7.6"
  }
 },
 "nbformat": 4,
 "nbformat_minor": 4
}
