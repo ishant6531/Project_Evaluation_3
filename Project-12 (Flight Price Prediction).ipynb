{
 "cells": [
  {
   "cell_type": "code",
   "execution_count": 17,
   "metadata": {},
   "outputs": [],
   "source": [
    "#Importing Libraries \n",
    "import pandas as pd\n",
    "import numpy as np\n",
    "import seaborn as sns\n",
    "import matplotlib.pyplot as plt\n",
    "import warnings\n",
    "warnings.filterwarnings(\"ignore\")"
   ]
  },
  {
   "cell_type": "code",
   "execution_count": 18,
   "metadata": {},
   "outputs": [
    {
     "data": {
      "text/html": [
       "<div>\n",
       "<style scoped>\n",
       "    .dataframe tbody tr th:only-of-type {\n",
       "        vertical-align: middle;\n",
       "    }\n",
       "\n",
       "    .dataframe tbody tr th {\n",
       "        vertical-align: top;\n",
       "    }\n",
       "\n",
       "    .dataframe thead th {\n",
       "        text-align: right;\n",
       "    }\n",
       "</style>\n",
       "<table border=\"1\" class=\"dataframe\">\n",
       "  <thead>\n",
       "    <tr style=\"text-align: right;\">\n",
       "      <th></th>\n",
       "      <th>Airline</th>\n",
       "      <th>Date_of_Journey</th>\n",
       "      <th>Source</th>\n",
       "      <th>Destination</th>\n",
       "      <th>Route</th>\n",
       "      <th>Dep_Time</th>\n",
       "      <th>Arrival_Time</th>\n",
       "      <th>Duration</th>\n",
       "      <th>Total_Stops</th>\n",
       "      <th>Additional_Info</th>\n",
       "      <th>Price</th>\n",
       "    </tr>\n",
       "  </thead>\n",
       "  <tbody>\n",
       "    <tr>\n",
       "      <th>0</th>\n",
       "      <td>IndiGo</td>\n",
       "      <td>24/03/2019</td>\n",
       "      <td>Banglore</td>\n",
       "      <td>New Delhi</td>\n",
       "      <td>BLR → DEL</td>\n",
       "      <td>22:20</td>\n",
       "      <td>01:10 22 Mar</td>\n",
       "      <td>2h 50m</td>\n",
       "      <td>non-stop</td>\n",
       "      <td>No info</td>\n",
       "      <td>3897</td>\n",
       "    </tr>\n",
       "    <tr>\n",
       "      <th>1</th>\n",
       "      <td>Air India</td>\n",
       "      <td>1/05/2019</td>\n",
       "      <td>Kolkata</td>\n",
       "      <td>Banglore</td>\n",
       "      <td>CCU → IXR → BBI → BLR</td>\n",
       "      <td>05:50</td>\n",
       "      <td>13:15</td>\n",
       "      <td>7h 25m</td>\n",
       "      <td>2 stops</td>\n",
       "      <td>No info</td>\n",
       "      <td>7662</td>\n",
       "    </tr>\n",
       "    <tr>\n",
       "      <th>2</th>\n",
       "      <td>Jet Airways</td>\n",
       "      <td>9/06/2019</td>\n",
       "      <td>Delhi</td>\n",
       "      <td>Cochin</td>\n",
       "      <td>DEL → LKO → BOM → COK</td>\n",
       "      <td>09:25</td>\n",
       "      <td>04:25 10 Jun</td>\n",
       "      <td>19h</td>\n",
       "      <td>2 stops</td>\n",
       "      <td>No info</td>\n",
       "      <td>13882</td>\n",
       "    </tr>\n",
       "    <tr>\n",
       "      <th>3</th>\n",
       "      <td>IndiGo</td>\n",
       "      <td>12/05/2019</td>\n",
       "      <td>Kolkata</td>\n",
       "      <td>Banglore</td>\n",
       "      <td>CCU → NAG → BLR</td>\n",
       "      <td>18:05</td>\n",
       "      <td>23:30</td>\n",
       "      <td>5h 25m</td>\n",
       "      <td>1 stop</td>\n",
       "      <td>No info</td>\n",
       "      <td>6218</td>\n",
       "    </tr>\n",
       "    <tr>\n",
       "      <th>4</th>\n",
       "      <td>IndiGo</td>\n",
       "      <td>01/03/2019</td>\n",
       "      <td>Banglore</td>\n",
       "      <td>New Delhi</td>\n",
       "      <td>BLR → NAG → DEL</td>\n",
       "      <td>16:50</td>\n",
       "      <td>21:35</td>\n",
       "      <td>4h 45m</td>\n",
       "      <td>1 stop</td>\n",
       "      <td>No info</td>\n",
       "      <td>13302</td>\n",
       "    </tr>\n",
       "    <tr>\n",
       "      <th>...</th>\n",
       "      <td>...</td>\n",
       "      <td>...</td>\n",
       "      <td>...</td>\n",
       "      <td>...</td>\n",
       "      <td>...</td>\n",
       "      <td>...</td>\n",
       "      <td>...</td>\n",
       "      <td>...</td>\n",
       "      <td>...</td>\n",
       "      <td>...</td>\n",
       "      <td>...</td>\n",
       "    </tr>\n",
       "    <tr>\n",
       "      <th>10678</th>\n",
       "      <td>Air Asia</td>\n",
       "      <td>9/04/2019</td>\n",
       "      <td>Kolkata</td>\n",
       "      <td>Banglore</td>\n",
       "      <td>CCU → BLR</td>\n",
       "      <td>19:55</td>\n",
       "      <td>22:25</td>\n",
       "      <td>2h 30m</td>\n",
       "      <td>non-stop</td>\n",
       "      <td>No info</td>\n",
       "      <td>4107</td>\n",
       "    </tr>\n",
       "    <tr>\n",
       "      <th>10679</th>\n",
       "      <td>Air India</td>\n",
       "      <td>27/04/2019</td>\n",
       "      <td>Kolkata</td>\n",
       "      <td>Banglore</td>\n",
       "      <td>CCU → BLR</td>\n",
       "      <td>20:45</td>\n",
       "      <td>23:20</td>\n",
       "      <td>2h 35m</td>\n",
       "      <td>non-stop</td>\n",
       "      <td>No info</td>\n",
       "      <td>4145</td>\n",
       "    </tr>\n",
       "    <tr>\n",
       "      <th>10680</th>\n",
       "      <td>Jet Airways</td>\n",
       "      <td>27/04/2019</td>\n",
       "      <td>Banglore</td>\n",
       "      <td>Delhi</td>\n",
       "      <td>BLR → DEL</td>\n",
       "      <td>08:20</td>\n",
       "      <td>11:20</td>\n",
       "      <td>3h</td>\n",
       "      <td>non-stop</td>\n",
       "      <td>No info</td>\n",
       "      <td>7229</td>\n",
       "    </tr>\n",
       "    <tr>\n",
       "      <th>10681</th>\n",
       "      <td>Vistara</td>\n",
       "      <td>01/03/2019</td>\n",
       "      <td>Banglore</td>\n",
       "      <td>New Delhi</td>\n",
       "      <td>BLR → DEL</td>\n",
       "      <td>11:30</td>\n",
       "      <td>14:10</td>\n",
       "      <td>2h 40m</td>\n",
       "      <td>non-stop</td>\n",
       "      <td>No info</td>\n",
       "      <td>12648</td>\n",
       "    </tr>\n",
       "    <tr>\n",
       "      <th>10682</th>\n",
       "      <td>Air India</td>\n",
       "      <td>9/05/2019</td>\n",
       "      <td>Delhi</td>\n",
       "      <td>Cochin</td>\n",
       "      <td>DEL → GOI → BOM → COK</td>\n",
       "      <td>10:55</td>\n",
       "      <td>19:15</td>\n",
       "      <td>8h 20m</td>\n",
       "      <td>2 stops</td>\n",
       "      <td>No info</td>\n",
       "      <td>11753</td>\n",
       "    </tr>\n",
       "  </tbody>\n",
       "</table>\n",
       "<p>10683 rows × 11 columns</p>\n",
       "</div>"
      ],
      "text/plain": [
       "           Airline Date_of_Journey    Source Destination  \\\n",
       "0           IndiGo      24/03/2019  Banglore   New Delhi   \n",
       "1        Air India       1/05/2019   Kolkata    Banglore   \n",
       "2      Jet Airways       9/06/2019     Delhi      Cochin   \n",
       "3           IndiGo      12/05/2019   Kolkata    Banglore   \n",
       "4           IndiGo      01/03/2019  Banglore   New Delhi   \n",
       "...            ...             ...       ...         ...   \n",
       "10678     Air Asia       9/04/2019   Kolkata    Banglore   \n",
       "10679    Air India      27/04/2019   Kolkata    Banglore   \n",
       "10680  Jet Airways      27/04/2019  Banglore       Delhi   \n",
       "10681      Vistara      01/03/2019  Banglore   New Delhi   \n",
       "10682    Air India       9/05/2019     Delhi      Cochin   \n",
       "\n",
       "                       Route Dep_Time  Arrival_Time Duration Total_Stops  \\\n",
       "0                  BLR → DEL    22:20  01:10 22 Mar   2h 50m    non-stop   \n",
       "1      CCU → IXR → BBI → BLR    05:50         13:15   7h 25m     2 stops   \n",
       "2      DEL → LKO → BOM → COK    09:25  04:25 10 Jun      19h     2 stops   \n",
       "3            CCU → NAG → BLR    18:05         23:30   5h 25m      1 stop   \n",
       "4            BLR → NAG → DEL    16:50         21:35   4h 45m      1 stop   \n",
       "...                      ...      ...           ...      ...         ...   \n",
       "10678              CCU → BLR    19:55         22:25   2h 30m    non-stop   \n",
       "10679              CCU → BLR    20:45         23:20   2h 35m    non-stop   \n",
       "10680              BLR → DEL    08:20         11:20       3h    non-stop   \n",
       "10681              BLR → DEL    11:30         14:10   2h 40m    non-stop   \n",
       "10682  DEL → GOI → BOM → COK    10:55         19:15   8h 20m     2 stops   \n",
       "\n",
       "      Additional_Info  Price  \n",
       "0             No info   3897  \n",
       "1             No info   7662  \n",
       "2             No info  13882  \n",
       "3             No info   6218  \n",
       "4             No info  13302  \n",
       "...               ...    ...  \n",
       "10678         No info   4107  \n",
       "10679         No info   4145  \n",
       "10680         No info   7229  \n",
       "10681         No info  12648  \n",
       "10682         No info  11753  \n",
       "\n",
       "[10683 rows x 11 columns]"
      ]
     },
     "execution_count": 18,
     "metadata": {},
     "output_type": "execute_result"
    }
   ],
   "source": [
    "#Loading Flight Ticket Price prediction  Train database\n",
    "Train=pd.read_excel('Flight_train.xls')\n",
    "Train"
   ]
  },
  {
   "cell_type": "code",
   "execution_count": 19,
   "metadata": {},
   "outputs": [
    {
     "data": {
      "text/html": [
       "<div>\n",
       "<style scoped>\n",
       "    .dataframe tbody tr th:only-of-type {\n",
       "        vertical-align: middle;\n",
       "    }\n",
       "\n",
       "    .dataframe tbody tr th {\n",
       "        vertical-align: top;\n",
       "    }\n",
       "\n",
       "    .dataframe thead th {\n",
       "        text-align: right;\n",
       "    }\n",
       "</style>\n",
       "<table border=\"1\" class=\"dataframe\">\n",
       "  <thead>\n",
       "    <tr style=\"text-align: right;\">\n",
       "      <th></th>\n",
       "      <th>Airline</th>\n",
       "      <th>Date_of_Journey</th>\n",
       "      <th>Source</th>\n",
       "      <th>Destination</th>\n",
       "      <th>Route</th>\n",
       "      <th>Dep_Time</th>\n",
       "      <th>Arrival_Time</th>\n",
       "      <th>Duration</th>\n",
       "      <th>Total_Stops</th>\n",
       "      <th>Additional_Info</th>\n",
       "    </tr>\n",
       "  </thead>\n",
       "  <tbody>\n",
       "    <tr>\n",
       "      <th>0</th>\n",
       "      <td>Jet Airways</td>\n",
       "      <td>6/06/2019</td>\n",
       "      <td>Delhi</td>\n",
       "      <td>Cochin</td>\n",
       "      <td>DEL → BOM → COK</td>\n",
       "      <td>17:30</td>\n",
       "      <td>04:25 07 Jun</td>\n",
       "      <td>10h 55m</td>\n",
       "      <td>1 stop</td>\n",
       "      <td>No info</td>\n",
       "    </tr>\n",
       "    <tr>\n",
       "      <th>1</th>\n",
       "      <td>IndiGo</td>\n",
       "      <td>12/05/2019</td>\n",
       "      <td>Kolkata</td>\n",
       "      <td>Banglore</td>\n",
       "      <td>CCU → MAA → BLR</td>\n",
       "      <td>06:20</td>\n",
       "      <td>10:20</td>\n",
       "      <td>4h</td>\n",
       "      <td>1 stop</td>\n",
       "      <td>No info</td>\n",
       "    </tr>\n",
       "    <tr>\n",
       "      <th>2</th>\n",
       "      <td>Jet Airways</td>\n",
       "      <td>21/05/2019</td>\n",
       "      <td>Delhi</td>\n",
       "      <td>Cochin</td>\n",
       "      <td>DEL → BOM → COK</td>\n",
       "      <td>19:15</td>\n",
       "      <td>19:00 22 May</td>\n",
       "      <td>23h 45m</td>\n",
       "      <td>1 stop</td>\n",
       "      <td>In-flight meal not included</td>\n",
       "    </tr>\n",
       "    <tr>\n",
       "      <th>3</th>\n",
       "      <td>Multiple carriers</td>\n",
       "      <td>21/05/2019</td>\n",
       "      <td>Delhi</td>\n",
       "      <td>Cochin</td>\n",
       "      <td>DEL → BOM → COK</td>\n",
       "      <td>08:00</td>\n",
       "      <td>21:00</td>\n",
       "      <td>13h</td>\n",
       "      <td>1 stop</td>\n",
       "      <td>No info</td>\n",
       "    </tr>\n",
       "    <tr>\n",
       "      <th>4</th>\n",
       "      <td>Air Asia</td>\n",
       "      <td>24/06/2019</td>\n",
       "      <td>Banglore</td>\n",
       "      <td>Delhi</td>\n",
       "      <td>BLR → DEL</td>\n",
       "      <td>23:55</td>\n",
       "      <td>02:45 25 Jun</td>\n",
       "      <td>2h 50m</td>\n",
       "      <td>non-stop</td>\n",
       "      <td>No info</td>\n",
       "    </tr>\n",
       "    <tr>\n",
       "      <th>...</th>\n",
       "      <td>...</td>\n",
       "      <td>...</td>\n",
       "      <td>...</td>\n",
       "      <td>...</td>\n",
       "      <td>...</td>\n",
       "      <td>...</td>\n",
       "      <td>...</td>\n",
       "      <td>...</td>\n",
       "      <td>...</td>\n",
       "      <td>...</td>\n",
       "    </tr>\n",
       "    <tr>\n",
       "      <th>2666</th>\n",
       "      <td>Air India</td>\n",
       "      <td>6/06/2019</td>\n",
       "      <td>Kolkata</td>\n",
       "      <td>Banglore</td>\n",
       "      <td>CCU → DEL → BLR</td>\n",
       "      <td>20:30</td>\n",
       "      <td>20:25 07 Jun</td>\n",
       "      <td>23h 55m</td>\n",
       "      <td>1 stop</td>\n",
       "      <td>No info</td>\n",
       "    </tr>\n",
       "    <tr>\n",
       "      <th>2667</th>\n",
       "      <td>IndiGo</td>\n",
       "      <td>27/03/2019</td>\n",
       "      <td>Kolkata</td>\n",
       "      <td>Banglore</td>\n",
       "      <td>CCU → BLR</td>\n",
       "      <td>14:20</td>\n",
       "      <td>16:55</td>\n",
       "      <td>2h 35m</td>\n",
       "      <td>non-stop</td>\n",
       "      <td>No info</td>\n",
       "    </tr>\n",
       "    <tr>\n",
       "      <th>2668</th>\n",
       "      <td>Jet Airways</td>\n",
       "      <td>6/03/2019</td>\n",
       "      <td>Delhi</td>\n",
       "      <td>Cochin</td>\n",
       "      <td>DEL → BOM → COK</td>\n",
       "      <td>21:50</td>\n",
       "      <td>04:25 07 Mar</td>\n",
       "      <td>6h 35m</td>\n",
       "      <td>1 stop</td>\n",
       "      <td>No info</td>\n",
       "    </tr>\n",
       "    <tr>\n",
       "      <th>2669</th>\n",
       "      <td>Air India</td>\n",
       "      <td>6/03/2019</td>\n",
       "      <td>Delhi</td>\n",
       "      <td>Cochin</td>\n",
       "      <td>DEL → BOM → COK</td>\n",
       "      <td>04:00</td>\n",
       "      <td>19:15</td>\n",
       "      <td>15h 15m</td>\n",
       "      <td>1 stop</td>\n",
       "      <td>No info</td>\n",
       "    </tr>\n",
       "    <tr>\n",
       "      <th>2670</th>\n",
       "      <td>Multiple carriers</td>\n",
       "      <td>15/06/2019</td>\n",
       "      <td>Delhi</td>\n",
       "      <td>Cochin</td>\n",
       "      <td>DEL → BOM → COK</td>\n",
       "      <td>04:55</td>\n",
       "      <td>19:15</td>\n",
       "      <td>14h 20m</td>\n",
       "      <td>1 stop</td>\n",
       "      <td>No info</td>\n",
       "    </tr>\n",
       "  </tbody>\n",
       "</table>\n",
       "<p>2671 rows × 10 columns</p>\n",
       "</div>"
      ],
      "text/plain": [
       "                Airline Date_of_Journey    Source Destination  \\\n",
       "0           Jet Airways       6/06/2019     Delhi      Cochin   \n",
       "1                IndiGo      12/05/2019   Kolkata    Banglore   \n",
       "2           Jet Airways      21/05/2019     Delhi      Cochin   \n",
       "3     Multiple carriers      21/05/2019     Delhi      Cochin   \n",
       "4              Air Asia      24/06/2019  Banglore       Delhi   \n",
       "...                 ...             ...       ...         ...   \n",
       "2666          Air India       6/06/2019   Kolkata    Banglore   \n",
       "2667             IndiGo      27/03/2019   Kolkata    Banglore   \n",
       "2668        Jet Airways       6/03/2019     Delhi      Cochin   \n",
       "2669          Air India       6/03/2019     Delhi      Cochin   \n",
       "2670  Multiple carriers      15/06/2019     Delhi      Cochin   \n",
       "\n",
       "                Route Dep_Time  Arrival_Time Duration Total_Stops  \\\n",
       "0     DEL → BOM → COK    17:30  04:25 07 Jun  10h 55m      1 stop   \n",
       "1     CCU → MAA → BLR    06:20         10:20       4h      1 stop   \n",
       "2     DEL → BOM → COK    19:15  19:00 22 May  23h 45m      1 stop   \n",
       "3     DEL → BOM → COK    08:00         21:00      13h      1 stop   \n",
       "4           BLR → DEL    23:55  02:45 25 Jun   2h 50m    non-stop   \n",
       "...               ...      ...           ...      ...         ...   \n",
       "2666  CCU → DEL → BLR    20:30  20:25 07 Jun  23h 55m      1 stop   \n",
       "2667        CCU → BLR    14:20         16:55   2h 35m    non-stop   \n",
       "2668  DEL → BOM → COK    21:50  04:25 07 Mar   6h 35m      1 stop   \n",
       "2669  DEL → BOM → COK    04:00         19:15  15h 15m      1 stop   \n",
       "2670  DEL → BOM → COK    04:55         19:15  14h 20m      1 stop   \n",
       "\n",
       "                  Additional_Info  \n",
       "0                         No info  \n",
       "1                         No info  \n",
       "2     In-flight meal not included  \n",
       "3                         No info  \n",
       "4                         No info  \n",
       "...                           ...  \n",
       "2666                      No info  \n",
       "2667                      No info  \n",
       "2668                      No info  \n",
       "2669                      No info  \n",
       "2670                      No info  \n",
       "\n",
       "[2671 rows x 10 columns]"
      ]
     },
     "execution_count": 19,
     "metadata": {},
     "output_type": "execute_result"
    }
   ],
   "source": [
    "#Loading Flight Ticket Price prediction  Test database\n",
    "Test=pd.read_excel('Flight_Test.xls')\n",
    "Test"
   ]
  },
  {
   "cell_type": "code",
   "execution_count": 20,
   "metadata": {},
   "outputs": [
    {
     "name": "stdout",
     "output_type": "stream",
     "text": [
      "Train DataBase  columns\n",
      "Index(['Airline', 'Date_of_Journey', 'Source', 'Destination', 'Route',\n",
      "       'Dep_Time', 'Arrival_Time', 'Duration', 'Total_Stops',\n",
      "       'Additional_Info', 'Price'],\n",
      "      dtype='object')\n",
      "\n",
      "\n",
      "Test DataBase  columns\n",
      "Index(['Airline', 'Date_of_Journey', 'Source', 'Destination', 'Route',\n",
      "       'Dep_Time', 'Arrival_Time', 'Duration', 'Total_Stops',\n",
      "       'Additional_Info'],\n",
      "      dtype='object')\n"
     ]
    }
   ],
   "source": [
    "# Name of the Train and Test DataBase  columns.\n",
    "print(\"Train DataBase  columns\" )\n",
    "print(Train.columns)\n",
    "print(\"\")\n",
    "print(\"\")\n",
    "print(\"Test DataBase  columns\")\n",
    "print(Test.columns)"
   ]
  },
  {
   "cell_type": "code",
   "execution_count": 21,
   "metadata": {},
   "outputs": [
    {
     "name": "stdout",
     "output_type": "stream",
     "text": [
      "Shape of the Train database \n",
      "(10683, 11)\n",
      " \n",
      "Shape of the Test database \n",
      "(2671, 10)\n"
     ]
    }
   ],
   "source": [
    "# Shape of the Train and Test database .\n",
    "print (\"Shape of the Train database \")\n",
    "print(Train.shape)\n",
    "print(\" \")\n",
    "print (\"Shape of the Test database \")\n",
    "print(Test.shape)\n"
   ]
  },
  {
   "cell_type": "code",
   "execution_count": 22,
   "metadata": {},
   "outputs": [
    {
     "name": "stdout",
     "output_type": "stream",
     "text": [
      "<class 'pandas.core.frame.DataFrame'>\n",
      "RangeIndex: 10683 entries, 0 to 10682\n",
      "Data columns (total 11 columns):\n",
      " #   Column           Non-Null Count  Dtype \n",
      "---  ------           --------------  ----- \n",
      " 0   Airline          10683 non-null  object\n",
      " 1   Date_of_Journey  10683 non-null  object\n",
      " 2   Source           10683 non-null  object\n",
      " 3   Destination      10683 non-null  object\n",
      " 4   Route            10682 non-null  object\n",
      " 5   Dep_Time         10683 non-null  object\n",
      " 6   Arrival_Time     10683 non-null  object\n",
      " 7   Duration         10683 non-null  object\n",
      " 8   Total_Stops      10682 non-null  object\n",
      " 9   Additional_Info  10683 non-null  object\n",
      " 10  Price            10683 non-null  int64 \n",
      "dtypes: int64(1), object(10)\n",
      "memory usage: 918.2+ KB\n"
     ]
    }
   ],
   "source": [
    "#information of the  Train database\n",
    "Train.info()"
   ]
  },
  {
   "cell_type": "code",
   "execution_count": 23,
   "metadata": {},
   "outputs": [
    {
     "name": "stdout",
     "output_type": "stream",
     "text": [
      "Datatypes of Train Database\n",
      "Airline            object\n",
      "Date_of_Journey    object\n",
      "Source             object\n",
      "Destination        object\n",
      "Route              object\n",
      "Dep_Time           object\n",
      "Arrival_Time       object\n",
      "Duration           object\n",
      "Total_Stops        object\n",
      "Additional_Info    object\n",
      "Price               int64\n",
      "dtype: object\n",
      " \n",
      "Datatypes of Test Database\n",
      "Airline            object\n",
      "Date_of_Journey    object\n",
      "Source             object\n",
      "Destination        object\n",
      "Route              object\n",
      "Dep_Time           object\n",
      "Arrival_Time       object\n",
      "Duration           object\n",
      "Total_Stops        object\n",
      "Additional_Info    object\n",
      "dtype: object\n"
     ]
    }
   ],
   "source": [
    "#datatypes of both databases.\n",
    "print(\"Datatypes of Train Database\")\n",
    "print(Train.dtypes)\n",
    "print( \" \")\n",
    "print(\"Datatypes of Test Database\")\n",
    "print(Test.dtypes)"
   ]
  },
  {
   "cell_type": "code",
   "execution_count": 24,
   "metadata": {},
   "outputs": [
    {
     "name": "stdout",
     "output_type": "stream",
     "text": [
      "Null values in Train Database\n",
      "Airline            0\n",
      "Date_of_Journey    0\n",
      "Source             0\n",
      "Destination        0\n",
      "Route              1\n",
      "Dep_Time           0\n",
      "Arrival_Time       0\n",
      "Duration           0\n",
      "Total_Stops        1\n",
      "Additional_Info    0\n",
      "Price              0\n",
      "dtype: int64\n",
      " \n",
      "Null values in Test Database\n",
      "Airline            0\n",
      "Date_of_Journey    0\n",
      "Source             0\n",
      "Destination        0\n",
      "Route              0\n",
      "Dep_Time           0\n",
      "Arrival_Time       0\n",
      "Duration           0\n",
      "Total_Stops        0\n",
      "Additional_Info    0\n",
      "dtype: int64\n"
     ]
    }
   ],
   "source": [
    "#finding null values in the database\n",
    "\n",
    "print( \"Null values in Train Database\")\n",
    "print(Train.isnull().sum())\n",
    "print( \" \")\n",
    "print( \"Null values in Test Database\")\n",
    "print(Test.isnull().sum())"
   ]
  },
  {
   "cell_type": "code",
   "execution_count": 25,
   "metadata": {
    "scrolled": true
   },
   "outputs": [
    {
     "data": {
      "text/html": [
       "<div>\n",
       "<style scoped>\n",
       "    .dataframe tbody tr th:only-of-type {\n",
       "        vertical-align: middle;\n",
       "    }\n",
       "\n",
       "    .dataframe tbody tr th {\n",
       "        vertical-align: top;\n",
       "    }\n",
       "\n",
       "    .dataframe thead th {\n",
       "        text-align: right;\n",
       "    }\n",
       "</style>\n",
       "<table border=\"1\" class=\"dataframe\">\n",
       "  <thead>\n",
       "    <tr style=\"text-align: right;\">\n",
       "      <th></th>\n",
       "      <th>Price</th>\n",
       "    </tr>\n",
       "  </thead>\n",
       "  <tbody>\n",
       "    <tr>\n",
       "      <th>count</th>\n",
       "      <td>10683.000000</td>\n",
       "    </tr>\n",
       "    <tr>\n",
       "      <th>mean</th>\n",
       "      <td>9087.064121</td>\n",
       "    </tr>\n",
       "    <tr>\n",
       "      <th>std</th>\n",
       "      <td>4611.359167</td>\n",
       "    </tr>\n",
       "    <tr>\n",
       "      <th>min</th>\n",
       "      <td>1759.000000</td>\n",
       "    </tr>\n",
       "    <tr>\n",
       "      <th>25%</th>\n",
       "      <td>5277.000000</td>\n",
       "    </tr>\n",
       "    <tr>\n",
       "      <th>50%</th>\n",
       "      <td>8372.000000</td>\n",
       "    </tr>\n",
       "    <tr>\n",
       "      <th>75%</th>\n",
       "      <td>12373.000000</td>\n",
       "    </tr>\n",
       "    <tr>\n",
       "      <th>max</th>\n",
       "      <td>79512.000000</td>\n",
       "    </tr>\n",
       "  </tbody>\n",
       "</table>\n",
       "</div>"
      ],
      "text/plain": [
       "              Price\n",
       "count  10683.000000\n",
       "mean    9087.064121\n",
       "std     4611.359167\n",
       "min     1759.000000\n",
       "25%     5277.000000\n",
       "50%     8372.000000\n",
       "75%    12373.000000\n",
       "max    79512.000000"
      ]
     },
     "execution_count": 25,
     "metadata": {},
     "output_type": "execute_result"
    }
   ],
   "source": [
    "# Describing Train Database.\n",
    "Train.describe()"
   ]
  },
  {
   "cell_type": "code",
   "execution_count": null,
   "metadata": {},
   "outputs": [],
   "source": []
  },
  {
   "cell_type": "code",
   "execution_count": 26,
   "metadata": {},
   "outputs": [],
   "source": [
    "# Droping Null values from Train Database.\n",
    "Train=Train.dropna(axis=0)"
   ]
  },
  {
   "cell_type": "code",
   "execution_count": 27,
   "metadata": {},
   "outputs": [
    {
     "name": "stdout",
     "output_type": "stream",
     "text": [
      "Shape of the Train database \n",
      "(10682, 11)\n",
      " \n"
     ]
    }
   ],
   "source": [
    "# Shape of the Train database \n",
    "print (\"Shape of the Train database \")\n",
    "print(Train.shape)\n",
    "print(\" \")"
   ]
  },
  {
   "cell_type": "code",
   "execution_count": 28,
   "metadata": {},
   "outputs": [
    {
     "name": "stdout",
     "output_type": "stream",
     "text": [
      "Shape of the Test database \n",
      "(2671, 10)\n"
     ]
    }
   ],
   "source": [
    "print (\"Shape of the Test database \")\n",
    "print(Test.shape)\n"
   ]
  },
  {
   "cell_type": "markdown",
   "metadata": {},
   "source": [
    "# Bivariate Analysis"
   ]
  },
  {
   "cell_type": "code",
   "execution_count": 565,
   "metadata": {},
   "outputs": [
    {
     "data": {
      "image/png": "[encoded data removed]",
      "text/plain": [
       "<Figure size 720x576 with 1 Axes>"
      ]
     },
     "metadata": {
      "needs_background": "light"
     },
     "output_type": "display_data"
    }
   ],
   "source": [
    "# Countplot of Which airline has been used  Maximum .\n",
    "plt.figure(figsize=(10,8))\n",
    "pd =sns.countplot(x = \"Airline\" ,  data=Train, order=df['Airline'].value_counts().index)\n",
    "for p in pd.patches:\n",
    "    pd.annotate(format(p.get_height(), '.0f'), \n",
    "                   (p.get_x() + p.get_width() / 2., p.get_height()), \n",
    "                   ha = 'center', va = 'center', \n",
    "                   size=18,\n",
    "                   xytext = (0, 10), \n",
    "                   textcoords = 'offset points')\n",
    "plt.xticks(rotation= 90)\n",
    "plt.xlabel(\"Airline\", size=15)\n",
    "plt.ylabel(\"Count\" ,size=15)\n",
    "plt.show()\n",
    "#Conclusion:-  Jet Airways  has been used Maximum ."
   ]
  },
  {
   "cell_type": "code",
   "execution_count": 566,
   "metadata": {},
   "outputs": [
    {
     "data": {
      "image/png": "[encoded data removed]",
      "text/plain": [
       "<Figure size 720x576 with 1 Axes>"
      ]
     },
     "metadata": {
      "needs_background": "light"
     },
     "output_type": "display_data"
    }
   ],
   "source": [
    "#lets check which airline is expensive based on average Flight price\n",
    "plt.figure(figsize=(10,8))\n",
    "sns.barplot(x=\"Airline\",y=\"Price\",data=Train)\n",
    "\n",
    "plt.xticks(rotation= 90)\n",
    "plt.xlabel(\"Airline\", size=15)\n",
    "plt.ylabel(\"Price\" ,size=15)\n",
    "plt.show()\n",
    "# Conclusion:- Jet Airways Business class is most expensive average flight ticket price."
   ]
  },
  {
   "cell_type": "code",
   "execution_count": 567,
   "metadata": {
    "scrolled": true
   },
   "outputs": [
    {
     "data": {
      "image/png": "[encoded data removed]",
      "text/plain": [
       "<Figure size 576x360 with 1 Axes>"
      ]
     },
     "metadata": {
      "needs_background": "light"
     },
     "output_type": "display_data"
    }
   ],
   "source": [
    "#Lets chcek from which region average flight price  is more.\n",
    "plt.figure(figsize=(8,5))\n",
    "sns.barplot(x=\"Source\",y=\"Price\",data=Train)\n",
    "plt.xlabel(\"Source\", size=15)\n",
    "plt.ylabel(\"Price\" ,size=15)\n",
    "plt.show()\n",
    "#Conclusion:- In delhi region average flight price is more."
   ]
  },
  {
   "cell_type": "markdown",
   "metadata": {},
   "source": [
    "# Univariate Analysis"
   ]
  },
  {
   "cell_type": "code",
   "execution_count": 12,
   "metadata": {},
   "outputs": [
    {
     "data": {
      "text/plain": [
       "{'bodies': [<matplotlib.collections.PolyCollection at 0x2d6a17cc9c8>],\n",
       " 'cmaxes': <matplotlib.collections.LineCollection at 0x2d6a17c0c48>,\n",
       " 'cmins': <matplotlib.collections.LineCollection at 0x2d6a0b27848>,\n",
       " 'cbars': <matplotlib.collections.LineCollection at 0x2d6a0b27ec8>}"
      ]
     },
     "execution_count": 12,
     "metadata": {},
     "output_type": "execute_result"
    },
    {
     "data": {
      "image/png": "[encoded data removed]",
      "text/plain": [
       "<Figure size 432x288 with 1 Axes>"
      ]
     },
     "metadata": {
      "needs_background": "light"
     },
     "output_type": "display_data"
    }
   ],
   "source": [
    "# Making Violinplot  of Price.\n",
    "plt.violinplot(Train[\"Price\"])"
   ]
  },
  {
   "cell_type": "code",
   "execution_count": 15,
   "metadata": {},
   "outputs": [
    {
     "data": {
      "text/plain": [
       "<matplotlib.axes._subplots.AxesSubplot at 0x2d6a0c8b648>"
      ]
     },
     "execution_count": 15,
     "metadata": {},
     "output_type": "execute_result"
    },
    {
     "data": {
      "image/png": "[encoded data removed]",
      "text/plain": [
       "<Figure size 432x288 with 1 Axes>"
      ]
     },
     "metadata": {
      "needs_background": "light"
     },
     "output_type": "display_data"
    }
   ],
   "source": [
    "# Making Boxplot of Price columns\n",
    "sns.boxplot(x='Price' , data=Train)"
   ]
  },
  {
   "cell_type": "code",
   "execution_count": 29,
   "metadata": {},
   "outputs": [],
   "source": [
    "# Adding Both Databases.\n",
    "df=Train.append(Test)"
   ]
  },
  {
   "cell_type": "markdown",
   "metadata": {},
   "source": [
    "# Feature Engineering "
   ]
  },
  {
   "cell_type": "code",
   "execution_count": 30,
   "metadata": {},
   "outputs": [],
   "source": [
    "# Spliting  Date_of_Journey column into Date , Month , Year column.\n",
    "df[\"Date\"] = df[\"Date_of_Journey\"].str.split(\"/\").str[0]\n",
    "df[\"Month\"]=df[\"Date_of_Journey\"].str.split(\"/\").str[1]\n",
    "df[\"Year\"] =df[\"Date_of_Journey\"].str.split(\"/\").str[2]"
   ]
  },
  {
   "cell_type": "code",
   "execution_count": 31,
   "metadata": {},
   "outputs": [],
   "source": [
    "# Droping \" Date_of_Journey\" column.\n",
    "df=df.drop(['Date_of_Journey'],axis=1)"
   ]
  },
  {
   "cell_type": "markdown",
   "metadata": {},
   "source": [
    "# Arrival_Time Column"
   ]
  },
  {
   "cell_type": "code",
   "execution_count": 32,
   "metadata": {},
   "outputs": [],
   "source": [
    "# In the Arrival_Time Column we have combination of time and Month ,we will only extract time data from it and splitting into data and month.\n",
    "df[\"Arrival_Time\"]=df[\"Arrival_Time\"].str.split(' ').str[0]"
   ]
  },
  {
   "cell_type": "code",
   "execution_count": 33,
   "metadata": {},
   "outputs": [],
   "source": [
    "df['Arrival_Hour'] = df['Arrival_Time'].str.split(\":\").str[0]\n",
    "df['Arrival_Minute'] =df['Arrival_Time'].str.split(':').str[1]\n"
   ]
  },
  {
   "cell_type": "code",
   "execution_count": 34,
   "metadata": {},
   "outputs": [],
   "source": [
    "# Converting data into integer format\n",
    "df['Arrival_Hour']=df['Arrival_Hour'].astype(int)\n",
    "df['Arrival_Minute'] =df['Arrival_Minute'].astype(int)"
   ]
  },
  {
   "cell_type": "code",
   "execution_count": 35,
   "metadata": {},
   "outputs": [],
   "source": [
    "# Droping Arrival_Time column.\n",
    "df=df.drop(['Arrival_Time'],axis=1)"
   ]
  },
  {
   "cell_type": "markdown",
   "metadata": {},
   "source": [
    "# Total_Stops column"
   ]
  },
  {
   "cell_type": "code",
   "execution_count": 36,
   "metadata": {},
   "outputs": [],
   "source": [
    "# We take only number data from Total_Stops column.\n",
    "df['Total_Stops']=df['Total_Stops'].replace('non-stop','0 stop')\n",
    "df['Stop'] =df['Total_Stops'].str.split(' ').str[0]\n",
    "df['Stop'] =df['Stop'].astype(int)"
   ]
  },
  {
   "cell_type": "code",
   "execution_count": 37,
   "metadata": {},
   "outputs": [],
   "source": [
    "# droping Total_Stops Column.\n",
    "df=df.drop(['Total_Stops'],axis=1)"
   ]
  },
  {
   "cell_type": "markdown",
   "metadata": {},
   "source": [
    "# Dep_Time Column"
   ]
  },
  {
   "cell_type": "code",
   "execution_count": 38,
   "metadata": {},
   "outputs": [],
   "source": [
    "# In this  Dep_Time  Column we split  data  into Hour and minute and convert it into integer\n",
    "\n",
    "df['Dep_Hour']=df['Dep_Time'].str.split(':').str[0]\n",
    "df['Dep_Minute']=df['Dep_Time'].str.split(':').str[1]\n",
    "df['Dep_Hour']=df['Dep_Hour'].astype(int)\n",
    "df['Dep_Minute']=df['Dep_Minute'].astype(int)\n",
    "df=df.drop(['Dep_Time'],axis=1)"
   ]
  },
  {
   "cell_type": "markdown",
   "metadata": {},
   "source": [
    "# Route Column"
   ]
  },
  {
   "cell_type": "code",
   "execution_count": 39,
   "metadata": {},
   "outputs": [],
   "source": [
    "# Splitting Route column to extract information .\n",
    "\n",
    "df['Route_1'] =df['Route'].str.split('→ ').str[0]\n",
    "df['Route_2'] =df['Route'].str.split('→ ').str[1]\n",
    "df['Route_3'] =df['Route'].str.split('→ ').str[2]\n",
    "df['Route_4'] =df['Route'].str.split('→ ').str[3]\n",
    "df['Route_5'] =df['Route'].str.split('→ ').str[4]\n"
   ]
  },
  {
   "cell_type": "code",
   "execution_count": 40,
   "metadata": {},
   "outputs": [],
   "source": [
    "# Replacing Nan Values with 'None'\n",
    "df['Route_1'].fillna('None',inplace =True)\n",
    "df['Route_2'].fillna('None',inplace =True)\n",
    "df['Route_3'].fillna('None',inplace =True)\n",
    "df['Route_4'].fillna('None',inplace =True)\n",
    "df['Route_5'].fillna('None',inplace =True)"
   ]
  },
  {
   "cell_type": "code",
   "execution_count": 41,
   "metadata": {},
   "outputs": [],
   "source": [
    "# Droping Route column.\n",
    "df=df.drop(['Route'],axis=1)"
   ]
  },
  {
   "cell_type": "markdown",
   "metadata": {},
   "source": [
    "# Duration Column"
   ]
  },
  {
   "cell_type": "code",
   "execution_count": 42,
   "metadata": {},
   "outputs": [],
   "source": [
    "#Converting Duration into minutes\n",
    "df['Duration']=  df['Duration'].str.replace(\"h\", '*60').str.replace(' ','+').str.replace('m','*1').apply(eval)"
   ]
  },
  {
   "cell_type": "markdown",
   "metadata": {},
   "source": [
    "# Additional_Info  Column"
   ]
  },
  {
   "cell_type": "code",
   "execution_count": 43,
   "metadata": {},
   "outputs": [],
   "source": [
    "\n",
    "df['Additional_Info']=df['Additional_Info'].replace('No info','No Info')\n",
    "df['Additional_Info']=df['Additional_Info'].replace('In-flight meal not included','No Meal Provided')\n",
    "df['Additional_Info']=df['Additional_Info'].replace('No check-in baggage included','No baggage Check in included')"
   ]
  },
  {
   "cell_type": "code",
   "execution_count": 45,
   "metadata": {},
   "outputs": [
    {
     "data": {
      "text/html": [
       "<div>\n",
       "<style scoped>\n",
       "    .dataframe tbody tr th:only-of-type {\n",
       "        vertical-align: middle;\n",
       "    }\n",
       "\n",
       "    .dataframe tbody tr th {\n",
       "        vertical-align: top;\n",
       "    }\n",
       "\n",
       "    .dataframe thead th {\n",
       "        text-align: right;\n",
       "    }\n",
       "</style>\n",
       "<table border=\"1\" class=\"dataframe\">\n",
       "  <thead>\n",
       "    <tr style=\"text-align: right;\">\n",
       "      <th></th>\n",
       "      <th>Airline</th>\n",
       "      <th>Source</th>\n",
       "      <th>Destination</th>\n",
       "      <th>Duration</th>\n",
       "      <th>Additional_Info</th>\n",
       "      <th>Price</th>\n",
       "      <th>Date</th>\n",
       "      <th>Month</th>\n",
       "      <th>Year</th>\n",
       "      <th>Arrival_Hour</th>\n",
       "      <th>Arrival_Minute</th>\n",
       "      <th>Stop</th>\n",
       "      <th>Dep_Hour</th>\n",
       "      <th>Dep_Minute</th>\n",
       "      <th>Route_1</th>\n",
       "      <th>Route_2</th>\n",
       "      <th>Route_3</th>\n",
       "      <th>Route_4</th>\n",
       "      <th>Route_5</th>\n",
       "    </tr>\n",
       "  </thead>\n",
       "  <tbody>\n",
       "    <tr>\n",
       "      <th>0</th>\n",
       "      <td>IndiGo</td>\n",
       "      <td>Banglore</td>\n",
       "      <td>New Delhi</td>\n",
       "      <td>170</td>\n",
       "      <td>No Info</td>\n",
       "      <td>3897.0</td>\n",
       "      <td>24</td>\n",
       "      <td>03</td>\n",
       "      <td>2019</td>\n",
       "      <td>1</td>\n",
       "      <td>10</td>\n",
       "      <td>0</td>\n",
       "      <td>22</td>\n",
       "      <td>20</td>\n",
       "      <td>BLR</td>\n",
       "      <td>DEL</td>\n",
       "      <td>None</td>\n",
       "      <td>None</td>\n",
       "      <td>None</td>\n",
       "    </tr>\n",
       "    <tr>\n",
       "      <th>1</th>\n",
       "      <td>Air India</td>\n",
       "      <td>Kolkata</td>\n",
       "      <td>Banglore</td>\n",
       "      <td>445</td>\n",
       "      <td>No Info</td>\n",
       "      <td>7662.0</td>\n",
       "      <td>1</td>\n",
       "      <td>05</td>\n",
       "      <td>2019</td>\n",
       "      <td>13</td>\n",
       "      <td>15</td>\n",
       "      <td>2</td>\n",
       "      <td>5</td>\n",
       "      <td>50</td>\n",
       "      <td>CCU</td>\n",
       "      <td>IXR</td>\n",
       "      <td>BBI</td>\n",
       "      <td>BLR</td>\n",
       "      <td>None</td>\n",
       "    </tr>\n",
       "    <tr>\n",
       "      <th>2</th>\n",
       "      <td>Jet Airways</td>\n",
       "      <td>Delhi</td>\n",
       "      <td>Cochin</td>\n",
       "      <td>1140</td>\n",
       "      <td>No Info</td>\n",
       "      <td>13882.0</td>\n",
       "      <td>9</td>\n",
       "      <td>06</td>\n",
       "      <td>2019</td>\n",
       "      <td>4</td>\n",
       "      <td>25</td>\n",
       "      <td>2</td>\n",
       "      <td>9</td>\n",
       "      <td>25</td>\n",
       "      <td>DEL</td>\n",
       "      <td>LKO</td>\n",
       "      <td>BOM</td>\n",
       "      <td>COK</td>\n",
       "      <td>None</td>\n",
       "    </tr>\n",
       "    <tr>\n",
       "      <th>3</th>\n",
       "      <td>IndiGo</td>\n",
       "      <td>Kolkata</td>\n",
       "      <td>Banglore</td>\n",
       "      <td>325</td>\n",
       "      <td>No Info</td>\n",
       "      <td>6218.0</td>\n",
       "      <td>12</td>\n",
       "      <td>05</td>\n",
       "      <td>2019</td>\n",
       "      <td>23</td>\n",
       "      <td>30</td>\n",
       "      <td>1</td>\n",
       "      <td>18</td>\n",
       "      <td>5</td>\n",
       "      <td>CCU</td>\n",
       "      <td>NAG</td>\n",
       "      <td>BLR</td>\n",
       "      <td>None</td>\n",
       "      <td>None</td>\n",
       "    </tr>\n",
       "    <tr>\n",
       "      <th>4</th>\n",
       "      <td>IndiGo</td>\n",
       "      <td>Banglore</td>\n",
       "      <td>New Delhi</td>\n",
       "      <td>285</td>\n",
       "      <td>No Info</td>\n",
       "      <td>13302.0</td>\n",
       "      <td>01</td>\n",
       "      <td>03</td>\n",
       "      <td>2019</td>\n",
       "      <td>21</td>\n",
       "      <td>35</td>\n",
       "      <td>1</td>\n",
       "      <td>16</td>\n",
       "      <td>50</td>\n",
       "      <td>BLR</td>\n",
       "      <td>NAG</td>\n",
       "      <td>DEL</td>\n",
       "      <td>None</td>\n",
       "      <td>None</td>\n",
       "    </tr>\n",
       "    <tr>\n",
       "      <th>...</th>\n",
       "      <td>...</td>\n",
       "      <td>...</td>\n",
       "      <td>...</td>\n",
       "      <td>...</td>\n",
       "      <td>...</td>\n",
       "      <td>...</td>\n",
       "      <td>...</td>\n",
       "      <td>...</td>\n",
       "      <td>...</td>\n",
       "      <td>...</td>\n",
       "      <td>...</td>\n",
       "      <td>...</td>\n",
       "      <td>...</td>\n",
       "      <td>...</td>\n",
       "      <td>...</td>\n",
       "      <td>...</td>\n",
       "      <td>...</td>\n",
       "      <td>...</td>\n",
       "      <td>...</td>\n",
       "    </tr>\n",
       "    <tr>\n",
       "      <th>2666</th>\n",
       "      <td>Air India</td>\n",
       "      <td>Kolkata</td>\n",
       "      <td>Banglore</td>\n",
       "      <td>1435</td>\n",
       "      <td>No Info</td>\n",
       "      <td>NaN</td>\n",
       "      <td>6</td>\n",
       "      <td>06</td>\n",
       "      <td>2019</td>\n",
       "      <td>20</td>\n",
       "      <td>25</td>\n",
       "      <td>1</td>\n",
       "      <td>20</td>\n",
       "      <td>30</td>\n",
       "      <td>CCU</td>\n",
       "      <td>DEL</td>\n",
       "      <td>BLR</td>\n",
       "      <td>None</td>\n",
       "      <td>None</td>\n",
       "    </tr>\n",
       "    <tr>\n",
       "      <th>2667</th>\n",
       "      <td>IndiGo</td>\n",
       "      <td>Kolkata</td>\n",
       "      <td>Banglore</td>\n",
       "      <td>155</td>\n",
       "      <td>No Info</td>\n",
       "      <td>NaN</td>\n",
       "      <td>27</td>\n",
       "      <td>03</td>\n",
       "      <td>2019</td>\n",
       "      <td>16</td>\n",
       "      <td>55</td>\n",
       "      <td>0</td>\n",
       "      <td>14</td>\n",
       "      <td>20</td>\n",
       "      <td>CCU</td>\n",
       "      <td>BLR</td>\n",
       "      <td>None</td>\n",
       "      <td>None</td>\n",
       "      <td>None</td>\n",
       "    </tr>\n",
       "    <tr>\n",
       "      <th>2668</th>\n",
       "      <td>Jet Airways</td>\n",
       "      <td>Delhi</td>\n",
       "      <td>Cochin</td>\n",
       "      <td>395</td>\n",
       "      <td>No Info</td>\n",
       "      <td>NaN</td>\n",
       "      <td>6</td>\n",
       "      <td>03</td>\n",
       "      <td>2019</td>\n",
       "      <td>4</td>\n",
       "      <td>25</td>\n",
       "      <td>1</td>\n",
       "      <td>21</td>\n",
       "      <td>50</td>\n",
       "      <td>DEL</td>\n",
       "      <td>BOM</td>\n",
       "      <td>COK</td>\n",
       "      <td>None</td>\n",
       "      <td>None</td>\n",
       "    </tr>\n",
       "    <tr>\n",
       "      <th>2669</th>\n",
       "      <td>Air India</td>\n",
       "      <td>Delhi</td>\n",
       "      <td>Cochin</td>\n",
       "      <td>915</td>\n",
       "      <td>No Info</td>\n",
       "      <td>NaN</td>\n",
       "      <td>6</td>\n",
       "      <td>03</td>\n",
       "      <td>2019</td>\n",
       "      <td>19</td>\n",
       "      <td>15</td>\n",
       "      <td>1</td>\n",
       "      <td>4</td>\n",
       "      <td>0</td>\n",
       "      <td>DEL</td>\n",
       "      <td>BOM</td>\n",
       "      <td>COK</td>\n",
       "      <td>None</td>\n",
       "      <td>None</td>\n",
       "    </tr>\n",
       "    <tr>\n",
       "      <th>2670</th>\n",
       "      <td>Multiple carriers</td>\n",
       "      <td>Delhi</td>\n",
       "      <td>Cochin</td>\n",
       "      <td>860</td>\n",
       "      <td>No Info</td>\n",
       "      <td>NaN</td>\n",
       "      <td>15</td>\n",
       "      <td>06</td>\n",
       "      <td>2019</td>\n",
       "      <td>19</td>\n",
       "      <td>15</td>\n",
       "      <td>1</td>\n",
       "      <td>4</td>\n",
       "      <td>55</td>\n",
       "      <td>DEL</td>\n",
       "      <td>BOM</td>\n",
       "      <td>COK</td>\n",
       "      <td>None</td>\n",
       "      <td>None</td>\n",
       "    </tr>\n",
       "  </tbody>\n",
       "</table>\n",
       "<p>13353 rows × 19 columns</p>\n",
       "</div>"
      ],
      "text/plain": [
       "                Airline    Source Destination  Duration Additional_Info  \\\n",
       "0                IndiGo  Banglore   New Delhi       170         No Info   \n",
       "1             Air India   Kolkata    Banglore       445         No Info   \n",
       "2           Jet Airways     Delhi      Cochin      1140         No Info   \n",
       "3                IndiGo   Kolkata    Banglore       325         No Info   \n",
       "4                IndiGo  Banglore   New Delhi       285         No Info   \n",
       "...                 ...       ...         ...       ...             ...   \n",
       "2666          Air India   Kolkata    Banglore      1435         No Info   \n",
       "2667             IndiGo   Kolkata    Banglore       155         No Info   \n",
       "2668        Jet Airways     Delhi      Cochin       395         No Info   \n",
       "2669          Air India     Delhi      Cochin       915         No Info   \n",
       "2670  Multiple carriers     Delhi      Cochin       860         No Info   \n",
       "\n",
       "        Price Date Month  Year  Arrival_Hour  Arrival_Minute  Stop  Dep_Hour  \\\n",
       "0      3897.0   24    03  2019             1              10     0        22   \n",
       "1      7662.0    1    05  2019            13              15     2         5   \n",
       "2     13882.0    9    06  2019             4              25     2         9   \n",
       "3      6218.0   12    05  2019            23              30     1        18   \n",
       "4     13302.0   01    03  2019            21              35     1        16   \n",
       "...       ...  ...   ...   ...           ...             ...   ...       ...   \n",
       "2666      NaN    6    06  2019            20              25     1        20   \n",
       "2667      NaN   27    03  2019            16              55     0        14   \n",
       "2668      NaN    6    03  2019             4              25     1        21   \n",
       "2669      NaN    6    03  2019            19              15     1         4   \n",
       "2670      NaN   15    06  2019            19              15     1         4   \n",
       "\n",
       "      Dep_Minute Route_1 Route_2 Route_3 Route_4 Route_5  \n",
       "0             20    BLR      DEL    None    None    None  \n",
       "1             50    CCU     IXR     BBI      BLR    None  \n",
       "2             25    DEL     LKO     BOM      COK    None  \n",
       "3              5    CCU     NAG      BLR    None    None  \n",
       "4             50    BLR     NAG      DEL    None    None  \n",
       "...          ...     ...     ...     ...     ...     ...  \n",
       "2666          30    CCU     DEL      BLR    None    None  \n",
       "2667          20    CCU      BLR    None    None    None  \n",
       "2668          50    DEL     BOM      COK    None    None  \n",
       "2669           0    DEL     BOM      COK    None    None  \n",
       "2670          55    DEL     BOM      COK    None    None  \n",
       "\n",
       "[13353 rows x 19 columns]"
      ]
     },
     "execution_count": 45,
     "metadata": {},
     "output_type": "execute_result"
    }
   ],
   "source": [
    "df"
   ]
  },
  {
   "cell_type": "code",
   "execution_count": 46,
   "metadata": {},
   "outputs": [],
   "source": [
    "#Using Label Encoder \n",
    "from sklearn.preprocessing import LabelEncoder\n",
    "le=LabelEncoder()\n",
    "list1=['Airline','Source','Destination','Additional_Info','Year',\"Route_1\",'Route_2',\"Route_3\",\"Route_4\",\"Route_5\"]\n",
    "for val in list1:\n",
    "     df[val]=le.fit_transform(df[val].astype(str))"
   ]
  },
  {
   "cell_type": "code",
   "execution_count": 47,
   "metadata": {},
   "outputs": [],
   "source": [
    "# Splitting Test and Train database.\n",
    "Train=df[0:10682]\n",
    "Test=df[10682:]\n",
    "Test=Test.drop(['Price'],axis=1)"
   ]
  },
  {
   "cell_type": "code",
   "execution_count": 48,
   "metadata": {},
   "outputs": [],
   "source": [
    "x=Train.drop(['Price'],axis=1)\n",
    "y=Train[\"Price\"]"
   ]
  },
  {
   "cell_type": "markdown",
   "metadata": {},
   "source": [
    "# Splitting Data into target and Input"
   ]
  },
  {
   "cell_type": "code",
   "execution_count": 49,
   "metadata": {},
   "outputs": [
    {
     "data": {
      "text/html": [
       "<div>\n",
       "<style scoped>\n",
       "    .dataframe tbody tr th:only-of-type {\n",
       "        vertical-align: middle;\n",
       "    }\n",
       "\n",
       "    .dataframe tbody tr th {\n",
       "        vertical-align: top;\n",
       "    }\n",
       "\n",
       "    .dataframe thead th {\n",
       "        text-align: right;\n",
       "    }\n",
       "</style>\n",
       "<table border=\"1\" class=\"dataframe\">\n",
       "  <thead>\n",
       "    <tr style=\"text-align: right;\">\n",
       "      <th></th>\n",
       "      <th>Airline</th>\n",
       "      <th>Source</th>\n",
       "      <th>Destination</th>\n",
       "      <th>Duration</th>\n",
       "      <th>Additional_Info</th>\n",
       "      <th>Date</th>\n",
       "      <th>Month</th>\n",
       "      <th>Year</th>\n",
       "      <th>Arrival_Hour</th>\n",
       "      <th>Arrival_Minute</th>\n",
       "      <th>Stop</th>\n",
       "      <th>Dep_Hour</th>\n",
       "      <th>Dep_Minute</th>\n",
       "      <th>Route_1</th>\n",
       "      <th>Route_2</th>\n",
       "      <th>Route_3</th>\n",
       "      <th>Route_4</th>\n",
       "      <th>Route_5</th>\n",
       "    </tr>\n",
       "  </thead>\n",
       "  <tbody>\n",
       "    <tr>\n",
       "      <th>0</th>\n",
       "      <td>3</td>\n",
       "      <td>0</td>\n",
       "      <td>5</td>\n",
       "      <td>170</td>\n",
       "      <td>5</td>\n",
       "      <td>24</td>\n",
       "      <td>03</td>\n",
       "      <td>0</td>\n",
       "      <td>1</td>\n",
       "      <td>10</td>\n",
       "      <td>0</td>\n",
       "      <td>22</td>\n",
       "      <td>20</td>\n",
       "      <td>0</td>\n",
       "      <td>13</td>\n",
       "      <td>24</td>\n",
       "      <td>12</td>\n",
       "      <td>4</td>\n",
       "    </tr>\n",
       "    <tr>\n",
       "      <th>1</th>\n",
       "      <td>1</td>\n",
       "      <td>3</td>\n",
       "      <td>0</td>\n",
       "      <td>445</td>\n",
       "      <td>5</td>\n",
       "      <td>1</td>\n",
       "      <td>05</td>\n",
       "      <td>0</td>\n",
       "      <td>13</td>\n",
       "      <td>15</td>\n",
       "      <td>2</td>\n",
       "      <td>5</td>\n",
       "      <td>50</td>\n",
       "      <td>2</td>\n",
       "      <td>25</td>\n",
       "      <td>1</td>\n",
       "      <td>3</td>\n",
       "      <td>4</td>\n",
       "    </tr>\n",
       "    <tr>\n",
       "      <th>2</th>\n",
       "      <td>4</td>\n",
       "      <td>2</td>\n",
       "      <td>1</td>\n",
       "      <td>1140</td>\n",
       "      <td>5</td>\n",
       "      <td>9</td>\n",
       "      <td>06</td>\n",
       "      <td>0</td>\n",
       "      <td>4</td>\n",
       "      <td>25</td>\n",
       "      <td>2</td>\n",
       "      <td>9</td>\n",
       "      <td>25</td>\n",
       "      <td>3</td>\n",
       "      <td>32</td>\n",
       "      <td>4</td>\n",
       "      <td>5</td>\n",
       "      <td>4</td>\n",
       "    </tr>\n",
       "    <tr>\n",
       "      <th>3</th>\n",
       "      <td>3</td>\n",
       "      <td>3</td>\n",
       "      <td>0</td>\n",
       "      <td>325</td>\n",
       "      <td>5</td>\n",
       "      <td>12</td>\n",
       "      <td>05</td>\n",
       "      <td>0</td>\n",
       "      <td>23</td>\n",
       "      <td>30</td>\n",
       "      <td>1</td>\n",
       "      <td>18</td>\n",
       "      <td>5</td>\n",
       "      <td>2</td>\n",
       "      <td>34</td>\n",
       "      <td>3</td>\n",
       "      <td>12</td>\n",
       "      <td>4</td>\n",
       "    </tr>\n",
       "    <tr>\n",
       "      <th>4</th>\n",
       "      <td>3</td>\n",
       "      <td>0</td>\n",
       "      <td>5</td>\n",
       "      <td>285</td>\n",
       "      <td>5</td>\n",
       "      <td>01</td>\n",
       "      <td>03</td>\n",
       "      <td>0</td>\n",
       "      <td>21</td>\n",
       "      <td>35</td>\n",
       "      <td>1</td>\n",
       "      <td>16</td>\n",
       "      <td>50</td>\n",
       "      <td>0</td>\n",
       "      <td>34</td>\n",
       "      <td>8</td>\n",
       "      <td>12</td>\n",
       "      <td>4</td>\n",
       "    </tr>\n",
       "    <tr>\n",
       "      <th>...</th>\n",
       "      <td>...</td>\n",
       "      <td>...</td>\n",
       "      <td>...</td>\n",
       "      <td>...</td>\n",
       "      <td>...</td>\n",
       "      <td>...</td>\n",
       "      <td>...</td>\n",
       "      <td>...</td>\n",
       "      <td>...</td>\n",
       "      <td>...</td>\n",
       "      <td>...</td>\n",
       "      <td>...</td>\n",
       "      <td>...</td>\n",
       "      <td>...</td>\n",
       "      <td>...</td>\n",
       "      <td>...</td>\n",
       "      <td>...</td>\n",
       "      <td>...</td>\n",
       "    </tr>\n",
       "    <tr>\n",
       "      <th>10678</th>\n",
       "      <td>0</td>\n",
       "      <td>3</td>\n",
       "      <td>0</td>\n",
       "      <td>150</td>\n",
       "      <td>5</td>\n",
       "      <td>9</td>\n",
       "      <td>04</td>\n",
       "      <td>0</td>\n",
       "      <td>22</td>\n",
       "      <td>25</td>\n",
       "      <td>0</td>\n",
       "      <td>19</td>\n",
       "      <td>55</td>\n",
       "      <td>2</td>\n",
       "      <td>5</td>\n",
       "      <td>24</td>\n",
       "      <td>12</td>\n",
       "      <td>4</td>\n",
       "    </tr>\n",
       "    <tr>\n",
       "      <th>10679</th>\n",
       "      <td>1</td>\n",
       "      <td>3</td>\n",
       "      <td>0</td>\n",
       "      <td>155</td>\n",
       "      <td>5</td>\n",
       "      <td>27</td>\n",
       "      <td>04</td>\n",
       "      <td>0</td>\n",
       "      <td>23</td>\n",
       "      <td>20</td>\n",
       "      <td>0</td>\n",
       "      <td>20</td>\n",
       "      <td>45</td>\n",
       "      <td>2</td>\n",
       "      <td>5</td>\n",
       "      <td>24</td>\n",
       "      <td>12</td>\n",
       "      <td>4</td>\n",
       "    </tr>\n",
       "    <tr>\n",
       "      <th>10680</th>\n",
       "      <td>4</td>\n",
       "      <td>0</td>\n",
       "      <td>2</td>\n",
       "      <td>180</td>\n",
       "      <td>5</td>\n",
       "      <td>27</td>\n",
       "      <td>04</td>\n",
       "      <td>0</td>\n",
       "      <td>11</td>\n",
       "      <td>20</td>\n",
       "      <td>0</td>\n",
       "      <td>8</td>\n",
       "      <td>20</td>\n",
       "      <td>0</td>\n",
       "      <td>13</td>\n",
       "      <td>24</td>\n",
       "      <td>12</td>\n",
       "      <td>4</td>\n",
       "    </tr>\n",
       "    <tr>\n",
       "      <th>10681</th>\n",
       "      <td>10</td>\n",
       "      <td>0</td>\n",
       "      <td>5</td>\n",
       "      <td>160</td>\n",
       "      <td>5</td>\n",
       "      <td>01</td>\n",
       "      <td>03</td>\n",
       "      <td>0</td>\n",
       "      <td>14</td>\n",
       "      <td>10</td>\n",
       "      <td>0</td>\n",
       "      <td>11</td>\n",
       "      <td>30</td>\n",
       "      <td>0</td>\n",
       "      <td>13</td>\n",
       "      <td>24</td>\n",
       "      <td>12</td>\n",
       "      <td>4</td>\n",
       "    </tr>\n",
       "    <tr>\n",
       "      <th>10682</th>\n",
       "      <td>1</td>\n",
       "      <td>2</td>\n",
       "      <td>1</td>\n",
       "      <td>500</td>\n",
       "      <td>5</td>\n",
       "      <td>9</td>\n",
       "      <td>05</td>\n",
       "      <td>0</td>\n",
       "      <td>19</td>\n",
       "      <td>15</td>\n",
       "      <td>2</td>\n",
       "      <td>10</td>\n",
       "      <td>55</td>\n",
       "      <td>3</td>\n",
       "      <td>16</td>\n",
       "      <td>4</td>\n",
       "      <td>5</td>\n",
       "      <td>4</td>\n",
       "    </tr>\n",
       "  </tbody>\n",
       "</table>\n",
       "<p>10682 rows × 18 columns</p>\n",
       "</div>"
      ],
      "text/plain": [
       "       Airline  Source  Destination  Duration  Additional_Info Date Month  \\\n",
       "0            3       0            5       170                5   24    03   \n",
       "1            1       3            0       445                5    1    05   \n",
       "2            4       2            1      1140                5    9    06   \n",
       "3            3       3            0       325                5   12    05   \n",
       "4            3       0            5       285                5   01    03   \n",
       "...        ...     ...          ...       ...              ...  ...   ...   \n",
       "10678        0       3            0       150                5    9    04   \n",
       "10679        1       3            0       155                5   27    04   \n",
       "10680        4       0            2       180                5   27    04   \n",
       "10681       10       0            5       160                5   01    03   \n",
       "10682        1       2            1       500                5    9    05   \n",
       "\n",
       "       Year  Arrival_Hour  Arrival_Minute  Stop  Dep_Hour  Dep_Minute  \\\n",
       "0         0             1              10     0        22          20   \n",
       "1         0            13              15     2         5          50   \n",
       "2         0             4              25     2         9          25   \n",
       "3         0            23              30     1        18           5   \n",
       "4         0            21              35     1        16          50   \n",
       "...     ...           ...             ...   ...       ...         ...   \n",
       "10678     0            22              25     0        19          55   \n",
       "10679     0            23              20     0        20          45   \n",
       "10680     0            11              20     0         8          20   \n",
       "10681     0            14              10     0        11          30   \n",
       "10682     0            19              15     2        10          55   \n",
       "\n",
       "       Route_1  Route_2  Route_3  Route_4  Route_5  \n",
       "0            0       13       24       12        4  \n",
       "1            2       25        1        3        4  \n",
       "2            3       32        4        5        4  \n",
       "3            2       34        3       12        4  \n",
       "4            0       34        8       12        4  \n",
       "...        ...      ...      ...      ...      ...  \n",
       "10678        2        5       24       12        4  \n",
       "10679        2        5       24       12        4  \n",
       "10680        0       13       24       12        4  \n",
       "10681        0       13       24       12        4  \n",
       "10682        3       16        4        5        4  \n",
       "\n",
       "[10682 rows x 18 columns]"
      ]
     },
     "execution_count": 49,
     "metadata": {},
     "output_type": "execute_result"
    }
   ],
   "source": [
    "x"
   ]
  },
  {
   "cell_type": "code",
   "execution_count": 50,
   "metadata": {},
   "outputs": [
    {
     "data": {
      "text/plain": [
       "0         3897.0\n",
       "1         7662.0\n",
       "2        13882.0\n",
       "3         6218.0\n",
       "4        13302.0\n",
       "          ...   \n",
       "10678     4107.0\n",
       "10679     4145.0\n",
       "10680     7229.0\n",
       "10681    12648.0\n",
       "10682    11753.0\n",
       "Name: Price, Length: 10682, dtype: float64"
      ]
     },
     "execution_count": 50,
     "metadata": {},
     "output_type": "execute_result"
    }
   ],
   "source": [
    "y"
   ]
  },
  {
   "cell_type": "code",
   "execution_count": 51,
   "metadata": {},
   "outputs": [
    {
     "name": "stdout",
     "output_type": "stream",
     "text": [
      "StandardScaler(copy=True, with_mean=True, with_std=True)\n"
     ]
    }
   ],
   "source": [
    "# standard scaling data \n",
    "from sklearn.preprocessing import StandardScaler\n",
    "scaler = StandardScaler()\n",
    "print(scaler.fit(x))"
   ]
  },
  {
   "cell_type": "code",
   "execution_count": 52,
   "metadata": {},
   "outputs": [
    {
     "data": {
      "text/plain": [
       "Airline             0.731057\n",
       "Source             -0.424023\n",
       "Destination         1.244046\n",
       "Duration            0.861411\n",
       "Additional_Info    -0.189037\n",
       "Date                0.118174\n",
       "Month              -0.387409\n",
       "Year                0.000000\n",
       "Arrival_Hour       -0.370146\n",
       "Arrival_Minute      0.110945\n",
       "Stop                0.317109\n",
       "Dep_Hour            0.112924\n",
       "Dep_Minute          0.167234\n",
       "Route_1            -0.618513\n",
       "Route_2             1.424486\n",
       "Route_3             0.582579\n",
       "Route_4            -2.103798\n",
       "Route_5           -16.440835\n",
       "dtype: float64"
      ]
     },
     "execution_count": 52,
     "metadata": {},
     "output_type": "execute_result"
    }
   ],
   "source": [
    "x.skew()"
   ]
  },
  {
   "cell_type": "code",
   "execution_count": 53,
   "metadata": {},
   "outputs": [],
   "source": [
    "#Reducing  Skewness\n",
    "import numpy as np\n",
    "for col in x.columns:\n",
    "    if x.skew().loc[col]>0.55:\n",
    "         x[col]=np.log1p(x[col])"
   ]
  },
  {
   "cell_type": "markdown",
   "metadata": {},
   "source": [
    "# Importing Necessary libraries"
   ]
  },
  {
   "cell_type": "code",
   "execution_count": 54,
   "metadata": {},
   "outputs": [],
   "source": [
    "from sklearn.metrics import mean_absolute_error\n",
    "from sklearn.metrics import mean_squared_error\n",
    "from sklearn.metrics import r2_score\n",
    "from sklearn.model_selection import train_test_split\n",
    "from sklearn.svm import SVR\n",
    "from sklearn.model_selection import GridSearchCV\n",
    "from sklearn.neighbors import KNeighborsRegressor\n",
    "from sklearn.tree import DecisionTreeRegressor\n",
    "from sklearn.model_selection import cross_val_score\n",
    "from sklearn.ensemble import GradientBoostingRegressor\n",
    "from sklearn.linear_model import Lasso\n",
    "from sklearn.linear_model import ElasticNet\n",
    "from sklearn.ensemble import RandomForestRegressor\n",
    "from sklearn.ensemble import AdaBoostRegressor\n",
    "from sklearn.linear_model import LinearRegression"
   ]
  },
  {
   "cell_type": "code",
   "execution_count": 55,
   "metadata": {},
   "outputs": [],
   "source": [
    "def maxr2_score(regr,x,y):\n",
    "    max_r_score=0\n",
    "    for i in range(42,100):\n",
    "        x_train,x_test,y_train,y_test=train_test_split(x,y,random_state= i ,test_size=0.20)\n",
    "        regr.fit(x,y)\n",
    "        y_pred=regr.predict(x_test)\n",
    "        r2_scr=r2_score(y_test,y_pred)\n",
    "        if r2_scr>max_r_score:\n",
    "            max_r_score=r2_scr\n",
    "            final_i=i\n",
    "    print(\" We are getting maximum  r2 score corresponding to\",final_i,\"is\",max_r_score)\n",
    "    return final_i"
   ]
  },
  {
   "cell_type": "code",
   "execution_count": 56,
   "metadata": {},
   "outputs": [
    {
     "name": "stdout",
     "output_type": "stream",
     "text": [
      " Best parameters of KNeighborsRegressor is :-\n",
      "{'algorithm': 'ball_tree', 'n_neighbors': 5}\n",
      "\n",
      "\n",
      " Best parameters of Lasso is :-\n",
      "{'alpha': 1, 'selection': 'cyclic'}\n",
      "\n",
      "\n",
      " Best parameters of DecisionTreeRegressor is :-\n",
      "{'criterion': 'friedman_mse', 'max_features': 'auto'}\n",
      "\n",
      "\n",
      " Best parameters of AdaBoostRegressor is :-\n",
      "{'learning_rate': 0.1, 'n_estimators': 100}\n",
      "\n",
      "\n"
     ]
    }
   ],
   "source": [
    "# using Grid search CV to find best  parameters of different algorithim .\n",
    "knn=KNeighborsRegressor()\n",
    "parameters={\"n_neighbors\" :(5,20) , 'algorithm' :['auto', 'ball_tree', 'kd_tree', 'brute']}\n",
    "gd=GridSearchCV(knn,parameters)\n",
    "gd.fit(x,y)\n",
    "print(\" Best parameters of KNeighborsRegressor is :-\")\n",
    "print(gd.best_params_)\n",
    "print(\"\\n\")\n",
    "\n",
    "lsreg=Lasso()\n",
    "parameters={\"alpha\":[0.001,0.01,0.1,1] , 'selection' : ['cyclic', 'random']}\n",
    "gd=GridSearchCV(lsreg,parameters)\n",
    "gd.fit(x,y)\n",
    "print(\" Best parameters of Lasso is :-\")\n",
    "print(gd.best_params_)\n",
    "print(\"\\n\")\n",
    "\n",
    "dtc=DecisionTreeRegressor()\n",
    "parameters={\"criterion\" :( 'mse', 'friedman_mse', 'mae') ,'max_features' : ['auto', 'sqrt', 'log2']}\n",
    "gd=GridSearchCV(dtc,parameters)\n",
    "gd.fit(x,y)\n",
    "print(\" Best parameters of DecisionTreeRegressor is :-\")\n",
    "print(gd.best_params_)\n",
    "print(\"\\n\")\n",
    "\n",
    "\n",
    "#Best parameters for  AdaBoostRegressor\n",
    "ada=AdaBoostRegressor()\n",
    "parameters={\"learning_rate\":[0.001,0.01,0.1,1],\"n_estimators\":[25,50,100,150,200]}\n",
    "gd=GridSearchCV(ada,parameters)\n",
    "gd.fit(x,y)\n",
    "print(\" Best parameters of AdaBoostRegressor is :-\")\n",
    "print(gd.best_params_)\n",
    "print(\"\\n\")"
   ]
  },
  {
   "cell_type": "code",
   "execution_count": 60,
   "metadata": {
    "scrolled": true
   },
   "outputs": [
    {
     "name": "stdout",
     "output_type": "stream",
     "text": [
      "Linear Regression\n",
      "................. \n",
      " We are getting maximum  r2 score corresponding to 98 is 0.5608524190224531\n",
      " \n",
      "Mean r2 score for Linear Regression: 0.5119174630743717\n",
      "standard deviation in r2 score for Linear Regression 0.004386664631275604\n",
      " \n",
      "#############################################################################\n",
      " \n",
      "KNeighbors regressor \n",
      "..................... \n",
      " We are getting maximum  r2 score corresponding to 98 is 0.6136858295684808\n",
      " \n",
      "Mean r2 score for KNeighbor  Regression: 0.5117473730470442\n",
      "standard deviation in r2 score for KNeighbor   Regression 0.016544337577330964\n",
      " \n",
      "##############################################################################\n",
      " \n",
      "Lasso Regressor\n",
      "................ \n",
      " We are getting maximum  r2 score corresponding to 98 is 0.5608531693255593\n",
      " \n",
      "Mean r2 score for Lasso Regression: 0.5249810124471141\n",
      "standard deviation in r2 score for Lasso Regression 0.004386595423474213\n",
      " \n",
      "################################################################################\n",
      " \n",
      "DecisionTreeRegressor\n",
      "...................... \n",
      " We are getting maximum  r2 score corresponding to 94 is 0.996720495921457\n",
      " \n",
      "Mean r2 score for DecisionTreeRegressor : 0.8480262674602163\n",
      "standard deviation in r2 score for DecisionTreeRegressor 0.021161331160801815\n",
      " \n",
      "#################################################################################\n",
      " \n",
      "AdaBoostRegressor\n",
      ".................. \n",
      " We are getting maximum  r2 score corresponding to 94 is 0.5915258954968529\n",
      " \n",
      "Mean r2 score for AdaBoostRegressor : 0.5111502078383356\n",
      "standard deviation in r2 score for AdaBoostRegressor  0.034923728242110055\n",
      " \n",
      "#####################################################################################\n"
     ]
    }
   ],
   "source": [
    "# Finding best r2 score value for Linear Regression \n",
    "print(\"Linear Regression\")\n",
    "print(\"................. \")\n",
    "lreg=LinearRegression()\n",
    "r_state=maxr2_score(lreg,x,y)\n",
    "print(\" \")\n",
    "from sklearn.model_selection import cross_val_score\n",
    "print(\"Mean r2 score for Linear Regression:\",cross_val_score(lreg,x,y,cv=5,scoring=\"r2\").mean())\n",
    "print(\"standard deviation in r2 score for Linear Regression\",cross_val_score(lreg,x,y,cv=5,scoring=\"r2\").std())\n",
    "print(\" \")\n",
    "print(\"#############################################################################\")\n",
    "print(\" \")\n",
    "\n",
    "\n",
    "# Finding best r2 score value for KNeighbors regressor \n",
    "print(\"KNeighbors regressor \")\n",
    "print(\"..................... \")\n",
    "knn=KNeighborsRegressor(n_neighbors= 20 , algorithm = 'auto')\n",
    "i=maxr2_score(knn,x,y)\n",
    "print(\" \")\n",
    "from sklearn.model_selection import cross_val_score\n",
    "print(\"Mean r2 score for KNeighbor  Regression:\",cross_val_score(knn,x,y,cv=135,scoring=\"r2\").mean())\n",
    "print(\"standard deviation in r2 score for KNeighbor   Regression\",cross_val_score(knn,x,y,cv=5,scoring=\"r2\").std())\n",
    "print(\" \")\n",
    "print(\"##############################################################################\")\n",
    "print(\" \")\n",
    "\n",
    "\n",
    "# Finding best r2 score value for Lasso Regressor \n",
    "print(\"Lasso Regressor\")\n",
    "print(\"................ \")\n",
    "lsreg=Lasso(alpha=0.01 , selection = 'cyclic')\n",
    "i=maxr2_score(lsreg,x,y)\n",
    "print(\" \")\n",
    "from sklearn.model_selection import cross_val_score\n",
    "print(\"Mean r2 score for Lasso Regression:\",cross_val_score(lsreg,x,y,cv=63,scoring=\"r2\").mean())\n",
    "print(\"standard deviation in r2 score for Lasso Regression\",cross_val_score(lsreg,x,y,cv=5,scoring=\"r2\").std())\n",
    "print(\" \")\n",
    "print(\"################################################################################\")\n",
    "print(\" \")\n",
    "\n",
    "# Finding best r2 score value for DecisionTreeRegressor\n",
    "print(\"DecisionTreeRegressor\")\n",
    "print(\"...................... \")\n",
    "dtc=DecisionTreeRegressor(criterion = 'mse'  , max_features = 'auto')\n",
    "i=maxr2_score(dtc,x,y)\n",
    "print(\" \")\n",
    "from sklearn.model_selection import cross_val_score\n",
    "print(\"Mean r2 score for DecisionTreeRegressor :\",cross_val_score(dtc,x,y,cv=139,scoring=\"r2\").mean())\n",
    "print(\"standard deviation in r2 score for DecisionTreeRegressor\",cross_val_score(dtc,x,y,cv=5,scoring=\"r2\").std())\n",
    "print(\" \")\n",
    "print(\"#################################################################################\")\n",
    "print(\" \")\n",
    "\n",
    "\n",
    "\n",
    "# Finding best r2 score value for  AdaBoostRegressor\n",
    "print(\"AdaBoostRegressor\")\n",
    "print(\".................. \")\n",
    "ada=AdaBoostRegressor(n_estimators=200 , learning_rate = 0.1)\n",
    "i=maxr2_score(ada,x,y)\n",
    "print(\" \")\n",
    "print(\"Mean r2 score for AdaBoostRegressor :\",cross_val_score(ada,x,y,cv=10,scoring=\"r2\").mean())\n",
    "print(\"standard deviation in r2 score for AdaBoostRegressor \",cross_val_score(ada,x,y,cv=5,scoring=\"r2\").std())\n",
    "print(\" \")\n",
    "print(\"#####################################################################################\") \n"
   ]
  },
  {
   "cell_type": "markdown",
   "metadata": {},
   "source": [
    "# Since Decision Tree Regressor is giving better result so we will use it as final model"
   ]
  },
  {
   "cell_type": "code",
   "execution_count": 62,
   "metadata": {},
   "outputs": [],
   "source": [
    "x_train,x_test,y_train,y_test=train_test_split(x,y,random_state=94,test_size=0.20)\n",
    "dtc=DecisionTreeRegressor(criterion = 'mse'  , max_features = 'auto')\n",
    "dtc.fit(x,y)\n",
    "y_pred=dtc.predict(x_test)"
   ]
  },
  {
   "cell_type": "code",
   "execution_count": 63,
   "metadata": {},
   "outputs": [
    {
     "name": "stdout",
     "output_type": "stream",
     "text": [
      "RMSE is:  289.93458472497434\n",
      "r2_score is: 0.996720495921457\n"
     ]
    }
   ],
   "source": [
    "import numpy as np\n",
    "from sklearn.metrics import r2_score\n",
    "from sklearn.metrics import mean_squared_error\n",
    "print(\"RMSE is: \",np.sqrt(mean_squared_error(y_test,y_pred)))\n",
    "print(\"r2_score is:\",r2_score(y_test,y_pred))"
   ]
  },
  {
   "cell_type": "markdown",
   "metadata": {},
   "source": [
    "# Saving the model"
   ]
  },
  {
   "cell_type": "code",
   "execution_count": 64,
   "metadata": {},
   "outputs": [
    {
     "data": {
      "text/plain": [
       "['Flight_Price.pkl']"
      ]
     },
     "execution_count": 64,
     "metadata": {},
     "output_type": "execute_result"
    }
   ],
   "source": [
    "from sklearn.externals import joblib\n",
    "joblib.dump(dtc,\"Flight_Price.pkl\")"
   ]
  },
  {
   "cell_type": "markdown",
   "metadata": {},
   "source": [
    "# Loading Model"
   ]
  },
  {
   "cell_type": "code",
   "execution_count": 65,
   "metadata": {},
   "outputs": [],
   "source": [
    "model=joblib.load('Flight_Price.pkl')"
   ]
  },
  {
   "cell_type": "markdown",
   "metadata": {},
   "source": [
    "# Using Model to predict data"
   ]
  },
  {
   "cell_type": "code",
   "execution_count": 69,
   "metadata": {},
   "outputs": [
    {
     "data": {
      "text/plain": [
       "array([ 5583.,  7947.,  7308., ..., 11401., 11522.,  5583.])"
      ]
     },
     "execution_count": 69,
     "metadata": {},
     "output_type": "execute_result"
    }
   ],
   "source": [
    "db=model.predict(Test)\n",
    "db"
   ]
  },
  {
   "cell_type": "markdown",
   "metadata": {},
   "source": [
    "# Saving Prediction in csv file"
   ]
  },
  {
   "cell_type": "code",
   "execution_count": 70,
   "metadata": {},
   "outputs": [],
   "source": [
    "dft=pd.DataFrame(db)\n",
    "dft.to_csv(\"Flight_Price1.csv\")"
   ]
  },
  {
   "cell_type": "code",
   "execution_count": null,
   "metadata": {},
   "outputs": [],
   "source": []
  }
 ],
 "metadata": {
  "kernelspec": {
   "display_name": "Python 3",
   "language": "python",
   "name": "python3"
  },
  "language_info": {
   "codemirror_mode": {
    "name": "ipython",
    "version": 3
   },
   "file_extension": ".py",
   "mimetype": "text/x-python",
   "name": "python",
   "nbconvert_exporter": "python",
   "pygments_lexer": "ipython3",
   "version": "3.7.6"
  }
 },
 "nbformat": 4,
 "nbformat_minor": 4
}
